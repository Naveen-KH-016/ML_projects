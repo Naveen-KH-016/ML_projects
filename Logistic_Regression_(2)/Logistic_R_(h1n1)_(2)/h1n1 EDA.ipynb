{
 "cells": [
  {
   "cell_type": "code",
   "execution_count": 1,
   "id": "abbd3e6f",
   "metadata": {},
   "outputs": [],
   "source": [
    "import numpy as np\n",
    "import pandas as pd\n",
    "import matplotlib.pyplot as plt\n",
    "import seaborn as sns\n",
    "from scipy import stats\n",
    "import statsmodels.api as sm\n",
    "from statsmodels.formula.api import ols\n",
    "from statsmodels.stats.multicomp import pairwise_tukeyhsd\n",
    "import statsmodels.formula.api as smf\n",
    "pd.set_option('display.max_column',None)\n",
    "from sklearn.linear_model import LinearRegression\n",
    "from scipy.stats import f_oneway \n",
    "from statsmodels.stats.outliers_influence import variance_inflation_factor\n",
    "import scipy.stats as stats"
   ]
  },
  {
   "cell_type": "code",
   "execution_count": 2,
   "id": "625bb289",
   "metadata": {},
   "outputs": [],
   "source": [
    "df = pd.read_csv(\"I:\\\\ML\\\\Class project EDA - h1n1\\\\h1n1_vaccine_prediction.csv\")"
   ]
  },
  {
   "cell_type": "code",
   "execution_count": 3,
   "id": "cd5dc27f",
   "metadata": {
    "scrolled": true
   },
   "outputs": [
    {
     "data": {
      "text/html": [
       "<div>\n",
       "<style scoped>\n",
       "    .dataframe tbody tr th:only-of-type {\n",
       "        vertical-align: middle;\n",
       "    }\n",
       "\n",
       "    .dataframe tbody tr th {\n",
       "        vertical-align: top;\n",
       "    }\n",
       "\n",
       "    .dataframe thead th {\n",
       "        text-align: right;\n",
       "    }\n",
       "</style>\n",
       "<table border=\"1\" class=\"dataframe\">\n",
       "  <thead>\n",
       "    <tr style=\"text-align: right;\">\n",
       "      <th></th>\n",
       "      <th>unique_id</th>\n",
       "      <th>h1n1_worry</th>\n",
       "      <th>h1n1_awareness</th>\n",
       "      <th>antiviral_medication</th>\n",
       "      <th>contact_avoidance</th>\n",
       "      <th>bought_face_mask</th>\n",
       "      <th>wash_hands_frequently</th>\n",
       "      <th>avoid_large_gatherings</th>\n",
       "      <th>reduced_outside_home_cont</th>\n",
       "      <th>avoid_touch_face</th>\n",
       "      <th>dr_recc_h1n1_vacc</th>\n",
       "      <th>dr_recc_seasonal_vacc</th>\n",
       "      <th>chronic_medic_condition</th>\n",
       "      <th>cont_child_undr_6_mnths</th>\n",
       "      <th>is_health_worker</th>\n",
       "      <th>has_health_insur</th>\n",
       "      <th>is_h1n1_vacc_effective</th>\n",
       "      <th>is_h1n1_risky</th>\n",
       "      <th>sick_from_h1n1_vacc</th>\n",
       "      <th>is_seas_vacc_effective</th>\n",
       "      <th>is_seas_risky</th>\n",
       "      <th>sick_from_seas_vacc</th>\n",
       "      <th>age_bracket</th>\n",
       "      <th>qualification</th>\n",
       "      <th>race</th>\n",
       "      <th>sex</th>\n",
       "      <th>income_level</th>\n",
       "      <th>marital_status</th>\n",
       "      <th>housing_status</th>\n",
       "      <th>employment</th>\n",
       "      <th>census_msa</th>\n",
       "      <th>no_of_adults</th>\n",
       "      <th>no_of_children</th>\n",
       "      <th>h1n1_vaccine</th>\n",
       "    </tr>\n",
       "  </thead>\n",
       "  <tbody>\n",
       "    <tr>\n",
       "      <th>0</th>\n",
       "      <td>0</td>\n",
       "      <td>1.0</td>\n",
       "      <td>0.0</td>\n",
       "      <td>0.0</td>\n",
       "      <td>0.0</td>\n",
       "      <td>0.0</td>\n",
       "      <td>0.0</td>\n",
       "      <td>0.0</td>\n",
       "      <td>1.0</td>\n",
       "      <td>1.0</td>\n",
       "      <td>0.0</td>\n",
       "      <td>0.0</td>\n",
       "      <td>0.0</td>\n",
       "      <td>0.0</td>\n",
       "      <td>0.0</td>\n",
       "      <td>1.0</td>\n",
       "      <td>3.0</td>\n",
       "      <td>1.0</td>\n",
       "      <td>2.0</td>\n",
       "      <td>2.0</td>\n",
       "      <td>1.0</td>\n",
       "      <td>2.0</td>\n",
       "      <td>55 - 64 Years</td>\n",
       "      <td>&lt; 12 Years</td>\n",
       "      <td>White</td>\n",
       "      <td>Female</td>\n",
       "      <td>Below Poverty</td>\n",
       "      <td>Not Married</td>\n",
       "      <td>Own</td>\n",
       "      <td>Not in Labor Force</td>\n",
       "      <td>Non-MSA</td>\n",
       "      <td>0.0</td>\n",
       "      <td>0.0</td>\n",
       "      <td>0</td>\n",
       "    </tr>\n",
       "    <tr>\n",
       "      <th>1</th>\n",
       "      <td>1</td>\n",
       "      <td>3.0</td>\n",
       "      <td>2.0</td>\n",
       "      <td>0.0</td>\n",
       "      <td>1.0</td>\n",
       "      <td>0.0</td>\n",
       "      <td>1.0</td>\n",
       "      <td>0.0</td>\n",
       "      <td>1.0</td>\n",
       "      <td>1.0</td>\n",
       "      <td>0.0</td>\n",
       "      <td>0.0</td>\n",
       "      <td>0.0</td>\n",
       "      <td>0.0</td>\n",
       "      <td>0.0</td>\n",
       "      <td>1.0</td>\n",
       "      <td>5.0</td>\n",
       "      <td>4.0</td>\n",
       "      <td>4.0</td>\n",
       "      <td>4.0</td>\n",
       "      <td>2.0</td>\n",
       "      <td>4.0</td>\n",
       "      <td>35 - 44 Years</td>\n",
       "      <td>12 Years</td>\n",
       "      <td>White</td>\n",
       "      <td>Male</td>\n",
       "      <td>Below Poverty</td>\n",
       "      <td>Not Married</td>\n",
       "      <td>Rent</td>\n",
       "      <td>Employed</td>\n",
       "      <td>MSA, Not Principle  City</td>\n",
       "      <td>0.0</td>\n",
       "      <td>0.0</td>\n",
       "      <td>0</td>\n",
       "    </tr>\n",
       "    <tr>\n",
       "      <th>2</th>\n",
       "      <td>2</td>\n",
       "      <td>1.0</td>\n",
       "      <td>1.0</td>\n",
       "      <td>0.0</td>\n",
       "      <td>1.0</td>\n",
       "      <td>0.0</td>\n",
       "      <td>0.0</td>\n",
       "      <td>0.0</td>\n",
       "      <td>0.0</td>\n",
       "      <td>0.0</td>\n",
       "      <td>NaN</td>\n",
       "      <td>NaN</td>\n",
       "      <td>1.0</td>\n",
       "      <td>0.0</td>\n",
       "      <td>0.0</td>\n",
       "      <td>NaN</td>\n",
       "      <td>3.0</td>\n",
       "      <td>1.0</td>\n",
       "      <td>1.0</td>\n",
       "      <td>4.0</td>\n",
       "      <td>1.0</td>\n",
       "      <td>2.0</td>\n",
       "      <td>18 - 34 Years</td>\n",
       "      <td>College Graduate</td>\n",
       "      <td>White</td>\n",
       "      <td>Male</td>\n",
       "      <td>&lt;= $75,000, Above Poverty</td>\n",
       "      <td>Not Married</td>\n",
       "      <td>Own</td>\n",
       "      <td>Employed</td>\n",
       "      <td>MSA, Not Principle  City</td>\n",
       "      <td>2.0</td>\n",
       "      <td>0.0</td>\n",
       "      <td>0</td>\n",
       "    </tr>\n",
       "    <tr>\n",
       "      <th>3</th>\n",
       "      <td>3</td>\n",
       "      <td>1.0</td>\n",
       "      <td>1.0</td>\n",
       "      <td>0.0</td>\n",
       "      <td>1.0</td>\n",
       "      <td>0.0</td>\n",
       "      <td>1.0</td>\n",
       "      <td>1.0</td>\n",
       "      <td>0.0</td>\n",
       "      <td>0.0</td>\n",
       "      <td>0.0</td>\n",
       "      <td>1.0</td>\n",
       "      <td>1.0</td>\n",
       "      <td>0.0</td>\n",
       "      <td>0.0</td>\n",
       "      <td>NaN</td>\n",
       "      <td>3.0</td>\n",
       "      <td>3.0</td>\n",
       "      <td>5.0</td>\n",
       "      <td>5.0</td>\n",
       "      <td>4.0</td>\n",
       "      <td>1.0</td>\n",
       "      <td>65+ Years</td>\n",
       "      <td>12 Years</td>\n",
       "      <td>White</td>\n",
       "      <td>Female</td>\n",
       "      <td>Below Poverty</td>\n",
       "      <td>Not Married</td>\n",
       "      <td>Rent</td>\n",
       "      <td>Not in Labor Force</td>\n",
       "      <td>MSA, Principle City</td>\n",
       "      <td>0.0</td>\n",
       "      <td>0.0</td>\n",
       "      <td>0</td>\n",
       "    </tr>\n",
       "    <tr>\n",
       "      <th>4</th>\n",
       "      <td>4</td>\n",
       "      <td>2.0</td>\n",
       "      <td>1.0</td>\n",
       "      <td>0.0</td>\n",
       "      <td>1.0</td>\n",
       "      <td>0.0</td>\n",
       "      <td>1.0</td>\n",
       "      <td>1.0</td>\n",
       "      <td>0.0</td>\n",
       "      <td>1.0</td>\n",
       "      <td>0.0</td>\n",
       "      <td>0.0</td>\n",
       "      <td>0.0</td>\n",
       "      <td>0.0</td>\n",
       "      <td>0.0</td>\n",
       "      <td>NaN</td>\n",
       "      <td>3.0</td>\n",
       "      <td>3.0</td>\n",
       "      <td>2.0</td>\n",
       "      <td>3.0</td>\n",
       "      <td>1.0</td>\n",
       "      <td>4.0</td>\n",
       "      <td>45 - 54 Years</td>\n",
       "      <td>Some College</td>\n",
       "      <td>White</td>\n",
       "      <td>Female</td>\n",
       "      <td>&lt;= $75,000, Above Poverty</td>\n",
       "      <td>Married</td>\n",
       "      <td>Own</td>\n",
       "      <td>Employed</td>\n",
       "      <td>MSA, Not Principle  City</td>\n",
       "      <td>1.0</td>\n",
       "      <td>0.0</td>\n",
       "      <td>0</td>\n",
       "    </tr>\n",
       "  </tbody>\n",
       "</table>\n",
       "</div>"
      ],
      "text/plain": [
       "   unique_id  h1n1_worry  h1n1_awareness  antiviral_medication  \\\n",
       "0          0         1.0             0.0                   0.0   \n",
       "1          1         3.0             2.0                   0.0   \n",
       "2          2         1.0             1.0                   0.0   \n",
       "3          3         1.0             1.0                   0.0   \n",
       "4          4         2.0             1.0                   0.0   \n",
       "\n",
       "   contact_avoidance  bought_face_mask  wash_hands_frequently  \\\n",
       "0                0.0               0.0                    0.0   \n",
       "1                1.0               0.0                    1.0   \n",
       "2                1.0               0.0                    0.0   \n",
       "3                1.0               0.0                    1.0   \n",
       "4                1.0               0.0                    1.0   \n",
       "\n",
       "   avoid_large_gatherings  reduced_outside_home_cont  avoid_touch_face  \\\n",
       "0                     0.0                        1.0               1.0   \n",
       "1                     0.0                        1.0               1.0   \n",
       "2                     0.0                        0.0               0.0   \n",
       "3                     1.0                        0.0               0.0   \n",
       "4                     1.0                        0.0               1.0   \n",
       "\n",
       "   dr_recc_h1n1_vacc  dr_recc_seasonal_vacc  chronic_medic_condition  \\\n",
       "0                0.0                    0.0                      0.0   \n",
       "1                0.0                    0.0                      0.0   \n",
       "2                NaN                    NaN                      1.0   \n",
       "3                0.0                    1.0                      1.0   \n",
       "4                0.0                    0.0                      0.0   \n",
       "\n",
       "   cont_child_undr_6_mnths  is_health_worker  has_health_insur  \\\n",
       "0                      0.0               0.0               1.0   \n",
       "1                      0.0               0.0               1.0   \n",
       "2                      0.0               0.0               NaN   \n",
       "3                      0.0               0.0               NaN   \n",
       "4                      0.0               0.0               NaN   \n",
       "\n",
       "   is_h1n1_vacc_effective  is_h1n1_risky  sick_from_h1n1_vacc  \\\n",
       "0                     3.0            1.0                  2.0   \n",
       "1                     5.0            4.0                  4.0   \n",
       "2                     3.0            1.0                  1.0   \n",
       "3                     3.0            3.0                  5.0   \n",
       "4                     3.0            3.0                  2.0   \n",
       "\n",
       "   is_seas_vacc_effective  is_seas_risky  sick_from_seas_vacc    age_bracket  \\\n",
       "0                     2.0            1.0                  2.0  55 - 64 Years   \n",
       "1                     4.0            2.0                  4.0  35 - 44 Years   \n",
       "2                     4.0            1.0                  2.0  18 - 34 Years   \n",
       "3                     5.0            4.0                  1.0      65+ Years   \n",
       "4                     3.0            1.0                  4.0  45 - 54 Years   \n",
       "\n",
       "      qualification   race     sex               income_level marital_status  \\\n",
       "0        < 12 Years  White  Female              Below Poverty    Not Married   \n",
       "1          12 Years  White    Male              Below Poverty    Not Married   \n",
       "2  College Graduate  White    Male  <= $75,000, Above Poverty    Not Married   \n",
       "3          12 Years  White  Female              Below Poverty    Not Married   \n",
       "4      Some College  White  Female  <= $75,000, Above Poverty        Married   \n",
       "\n",
       "  housing_status          employment                census_msa  no_of_adults  \\\n",
       "0            Own  Not in Labor Force                   Non-MSA           0.0   \n",
       "1           Rent            Employed  MSA, Not Principle  City           0.0   \n",
       "2            Own            Employed  MSA, Not Principle  City           2.0   \n",
       "3           Rent  Not in Labor Force       MSA, Principle City           0.0   \n",
       "4            Own            Employed  MSA, Not Principle  City           1.0   \n",
       "\n",
       "   no_of_children  h1n1_vaccine  \n",
       "0             0.0             0  \n",
       "1             0.0             0  \n",
       "2             0.0             0  \n",
       "3             0.0             0  \n",
       "4             0.0             0  "
      ]
     },
     "execution_count": 3,
     "metadata": {},
     "output_type": "execute_result"
    }
   ],
   "source": [
    "df.head()"
   ]
  },
  {
   "cell_type": "code",
   "execution_count": 4,
   "id": "a4ca26a4",
   "metadata": {},
   "outputs": [
    {
     "data": {
      "text/plain": [
       "(26707, 34)"
      ]
     },
     "execution_count": 4,
     "metadata": {},
     "output_type": "execute_result"
    }
   ],
   "source": [
    "df.shape"
   ]
  },
  {
   "cell_type": "code",
   "execution_count": 5,
   "id": "c1e0657d",
   "metadata": {},
   "outputs": [
    {
     "data": {
      "text/plain": [
       "33962"
      ]
     },
     "execution_count": 5,
     "metadata": {},
     "output_type": "execute_result"
    }
   ],
   "source": [
    "df.isnull().sum().sum()"
   ]
  },
  {
   "cell_type": "code",
   "execution_count": 6,
   "id": "7551acd8",
   "metadata": {},
   "outputs": [
    {
     "name": "stdout",
     "output_type": "stream",
     "text": [
      "<class 'pandas.core.frame.DataFrame'>\n",
      "RangeIndex: 26707 entries, 0 to 26706\n",
      "Data columns (total 34 columns):\n",
      " #   Column                     Non-Null Count  Dtype  \n",
      "---  ------                     --------------  -----  \n",
      " 0   unique_id                  26707 non-null  int64  \n",
      " 1   h1n1_worry                 26615 non-null  float64\n",
      " 2   h1n1_awareness             26591 non-null  float64\n",
      " 3   antiviral_medication       26636 non-null  float64\n",
      " 4   contact_avoidance          26499 non-null  float64\n",
      " 5   bought_face_mask           26688 non-null  float64\n",
      " 6   wash_hands_frequently      26665 non-null  float64\n",
      " 7   avoid_large_gatherings     26620 non-null  float64\n",
      " 8   reduced_outside_home_cont  26625 non-null  float64\n",
      " 9   avoid_touch_face           26579 non-null  float64\n",
      " 10  dr_recc_h1n1_vacc          24547 non-null  float64\n",
      " 11  dr_recc_seasonal_vacc      24547 non-null  float64\n",
      " 12  chronic_medic_condition    25736 non-null  float64\n",
      " 13  cont_child_undr_6_mnths    25887 non-null  float64\n",
      " 14  is_health_worker           25903 non-null  float64\n",
      " 15  has_health_insur           14433 non-null  float64\n",
      " 16  is_h1n1_vacc_effective     26316 non-null  float64\n",
      " 17  is_h1n1_risky              26319 non-null  float64\n",
      " 18  sick_from_h1n1_vacc        26312 non-null  float64\n",
      " 19  is_seas_vacc_effective     26245 non-null  float64\n",
      " 20  is_seas_risky              26193 non-null  float64\n",
      " 21  sick_from_seas_vacc        26170 non-null  float64\n",
      " 22  age_bracket                26707 non-null  object \n",
      " 23  qualification              25300 non-null  object \n",
      " 24  race                       26707 non-null  object \n",
      " 25  sex                        26707 non-null  object \n",
      " 26  income_level               22284 non-null  object \n",
      " 27  marital_status             25299 non-null  object \n",
      " 28  housing_status             24665 non-null  object \n",
      " 29  employment                 25244 non-null  object \n",
      " 30  census_msa                 26707 non-null  object \n",
      " 31  no_of_adults               26458 non-null  float64\n",
      " 32  no_of_children             26458 non-null  float64\n",
      " 33  h1n1_vaccine               26707 non-null  int64  \n",
      "dtypes: float64(23), int64(2), object(9)\n",
      "memory usage: 6.9+ MB\n"
     ]
    }
   ],
   "source": [
    "df.info()"
   ]
  },
  {
   "cell_type": "code",
   "execution_count": 7,
   "id": "504901f5",
   "metadata": {},
   "outputs": [
    {
     "data": {
      "text/plain": [
       "26707"
      ]
     },
     "execution_count": 7,
     "metadata": {},
     "output_type": "execute_result"
    }
   ],
   "source": [
    "len(df.unique_id)"
   ]
  },
  {
   "cell_type": "code",
   "execution_count": 8,
   "id": "b4c514e2",
   "metadata": {},
   "outputs": [
    {
     "name": "stdout",
     "output_type": "stream",
     "text": [
      "has_health_insur\n"
     ]
    }
   ],
   "source": [
    "for i in df.columns:\n",
    "    if df[i].isnull().sum()>10000:\n",
    "        print(i)"
   ]
  },
  {
   "cell_type": "code",
   "execution_count": 9,
   "id": "1290829a",
   "metadata": {},
   "outputs": [
    {
     "data": {
      "text/plain": [
       "12274"
      ]
     },
     "execution_count": 9,
     "metadata": {},
     "output_type": "execute_result"
    }
   ],
   "source": [
    "df['has_health_insur'].isnull().sum()"
   ]
  },
  {
   "cell_type": "code",
   "execution_count": 10,
   "id": "775d6959",
   "metadata": {},
   "outputs": [],
   "source": [
    "df.drop(columns=['unique_id'], axis=1, inplace=True)"
   ]
  },
  {
   "cell_type": "code",
   "execution_count": 11,
   "id": "3217dcfa",
   "metadata": {},
   "outputs": [
    {
     "data": {
      "text/plain": [
       "0    21033\n",
       "1     5674\n",
       "Name: h1n1_vaccine, dtype: int64"
      ]
     },
     "execution_count": 11,
     "metadata": {},
     "output_type": "execute_result"
    }
   ],
   "source": [
    "df.h1n1_vaccine.value_counts()"
   ]
  },
  {
   "cell_type": "code",
   "execution_count": 12,
   "id": "1e78d0b6",
   "metadata": {},
   "outputs": [
    {
     "data": {
      "text/plain": [
       "0"
      ]
     },
     "execution_count": 12,
     "metadata": {},
     "output_type": "execute_result"
    }
   ],
   "source": [
    "df.h1n1_vaccine.isnull().sum()"
   ]
  },
  {
   "cell_type": "code",
   "execution_count": 13,
   "id": "93b8983d",
   "metadata": {},
   "outputs": [
    {
     "data": {
      "text/plain": [
       "2.0    10575\n",
       "1.0     8153\n",
       "3.0     4591\n",
       "0.0     3296\n",
       "Name: h1n1_worry, dtype: int64"
      ]
     },
     "execution_count": 13,
     "metadata": {},
     "output_type": "execute_result"
    }
   ],
   "source": [
    "df.h1n1_worry.value_counts()"
   ]
  },
  {
   "cell_type": "code",
   "execution_count": 14,
   "id": "547cb72a",
   "metadata": {},
   "outputs": [
    {
     "data": {
      "text/plain": [
       "92"
      ]
     },
     "execution_count": 14,
     "metadata": {},
     "output_type": "execute_result"
    }
   ],
   "source": [
    "df.h1n1_worry.isnull().sum()"
   ]
  },
  {
   "cell_type": "code",
   "execution_count": 15,
   "id": "36850549",
   "metadata": {},
   "outputs": [],
   "source": [
    "df.h1n1_worry.fillna(2.0,inplace = True) # filling the null values with mode"
   ]
  },
  {
   "cell_type": "code",
   "execution_count": 16,
   "id": "60517ff8",
   "metadata": {},
   "outputs": [
    {
     "data": {
      "text/plain": [
       "0"
      ]
     },
     "execution_count": 16,
     "metadata": {},
     "output_type": "execute_result"
    }
   ],
   "source": [
    "df.h1n1_worry.isnull().sum()"
   ]
  },
  {
   "cell_type": "code",
   "execution_count": 17,
   "id": "55eea377",
   "metadata": {},
   "outputs": [],
   "source": [
    "# h1n1_vaccine, h1n1_worry"
   ]
  },
  {
   "cell_type": "code",
   "execution_count": 18,
   "id": "b1d0d523",
   "metadata": {},
   "outputs": [
    {
     "name": "stdout",
     "output_type": "stream",
     "text": [
      "h1n1_vaccine     0     1\n",
      "h1n1_worry              \n",
      "0.0           2849   447\n",
      "1.0           6756  1397\n",
      "2.0           8178  2489\n",
      "3.0           3250  1341\n"
     ]
    }
   ],
   "source": [
    "df_tabel = pd.crosstab(df['h1n1_worry'],df['h1n1_vaccine'])\n",
    "print(df_tabel)"
   ]
  },
  {
   "cell_type": "code",
   "execution_count": 19,
   "id": "6b0770a7",
   "metadata": {},
   "outputs": [
    {
     "name": "stdout",
     "output_type": "stream",
     "text": [
      "Observed values:-\n",
      " [[2849  447]\n",
      " [6756 1397]\n",
      " [8178 2489]\n",
      " [3250 1341]]\n"
     ]
    }
   ],
   "source": [
    "#observed values\n",
    "observed_values = df_tabel.values\n",
    "print('Observed values:-\\n',observed_values)"
   ]
  },
  {
   "cell_type": "code",
   "execution_count": 20,
   "id": "066e8498",
   "metadata": {},
   "outputs": [
    {
     "data": {
      "text/plain": [
       "(400.4620379252815,\n",
       " 1.7582253892199257e-86,\n",
       " 3,\n",
       " array([[2595.752724  ,  700.247276  ],\n",
       "        [6420.86527877, 1732.13472123],\n",
       "        [8400.75676789, 2266.24323211],\n",
       "        [3615.62522934,  975.37477066]]))"
      ]
     },
     "execution_count": 20,
     "metadata": {},
     "output_type": "execute_result"
    }
   ],
   "source": [
    "stats.chi2_contingency(observed_values)"
   ]
  },
  {
   "cell_type": "code",
   "execution_count": 21,
   "id": "ab83268c",
   "metadata": {},
   "outputs": [
    {
     "data": {
      "text/plain": [
       "1.0    14598\n",
       "2.0     9487\n",
       "0.0     2506\n",
       "Name: h1n1_awareness, dtype: int64"
      ]
     },
     "execution_count": 21,
     "metadata": {},
     "output_type": "execute_result"
    }
   ],
   "source": [
    "df.h1n1_awareness.value_counts()"
   ]
  },
  {
   "cell_type": "code",
   "execution_count": 22,
   "id": "3146790d",
   "metadata": {},
   "outputs": [
    {
     "data": {
      "text/plain": [
       "116"
      ]
     },
     "execution_count": 22,
     "metadata": {},
     "output_type": "execute_result"
    }
   ],
   "source": [
    "df.h1n1_awareness.isnull().sum()"
   ]
  },
  {
   "cell_type": "code",
   "execution_count": 23,
   "id": "48976a03",
   "metadata": {},
   "outputs": [],
   "source": [
    "df.h1n1_awareness.fillna(1.0,inplace=True) # filling the null values with mode"
   ]
  },
  {
   "cell_type": "code",
   "execution_count": 24,
   "id": "589533f4",
   "metadata": {},
   "outputs": [
    {
     "data": {
      "text/plain": [
       "0"
      ]
     },
     "execution_count": 24,
     "metadata": {},
     "output_type": "execute_result"
    }
   ],
   "source": [
    "df.h1n1_awareness.isnull().sum()"
   ]
  },
  {
   "cell_type": "code",
   "execution_count": 25,
   "id": "4e2a1920",
   "metadata": {
    "scrolled": true
   },
   "outputs": [
    {
     "name": "stdout",
     "output_type": "stream",
     "text": [
      "h1n1_vaccine        0     1\n",
      "h1n1_awareness             \n",
      "0.0              2145   361\n",
      "1.0             12039  2675\n",
      "2.0              6849  2638\n"
     ]
    }
   ],
   "source": [
    "df_tabel = pd.crosstab(df['h1n1_awareness'],df['h1n1_vaccine'])\n",
    "print(df_tabel)"
   ]
  },
  {
   "cell_type": "code",
   "execution_count": 26,
   "id": "aa1727da",
   "metadata": {},
   "outputs": [
    {
     "name": "stdout",
     "output_type": "stream",
     "text": [
      "Observed values:-\n",
      " [[ 2145   361]\n",
      " [12039  2675]\n",
      " [ 6849  2638]]\n"
     ]
    }
   ],
   "source": [
    "#observed values\n",
    "observed_values = df_tabel.values\n",
    "print('Observed values:-\\n',observed_values)"
   ]
  },
  {
   "cell_type": "code",
   "execution_count": 27,
   "id": "2f64bc82",
   "metadata": {},
   "outputs": [
    {
     "data": {
      "text/plain": [
       "(396.7931990299987,\n",
       " 6.877832615401085e-87,\n",
       " 2,\n",
       " array([[ 1973.59111843,   532.40888157],\n",
       "        [11587.95679035,  3126.04320965],\n",
       "        [ 7471.45209121,  2015.54790879]]))"
      ]
     },
     "execution_count": 27,
     "metadata": {},
     "output_type": "execute_result"
    }
   ],
   "source": [
    "stats.chi2_contingency(observed_values)"
   ]
  },
  {
   "cell_type": "code",
   "execution_count": 28,
   "id": "347cee5a",
   "metadata": {},
   "outputs": [
    {
     "data": {
      "text/plain": [
       "0.0    25335\n",
       "1.0     1301\n",
       "Name: antiviral_medication, dtype: int64"
      ]
     },
     "execution_count": 28,
     "metadata": {},
     "output_type": "execute_result"
    }
   ],
   "source": [
    "df.antiviral_medication.value_counts()"
   ]
  },
  {
   "cell_type": "code",
   "execution_count": 29,
   "id": "874acfd4",
   "metadata": {},
   "outputs": [
    {
     "data": {
      "text/plain": [
       "71"
      ]
     },
     "execution_count": 29,
     "metadata": {},
     "output_type": "execute_result"
    }
   ],
   "source": [
    "df.antiviral_medication.isnull().sum()"
   ]
  },
  {
   "cell_type": "code",
   "execution_count": 30,
   "id": "58efb973",
   "metadata": {},
   "outputs": [],
   "source": [
    "df.antiviral_medication.fillna(0.0,inplace=True)"
   ]
  },
  {
   "cell_type": "code",
   "execution_count": 31,
   "id": "5e2ac87d",
   "metadata": {},
   "outputs": [
    {
     "data": {
      "text/plain": [
       "0"
      ]
     },
     "execution_count": 31,
     "metadata": {},
     "output_type": "execute_result"
    }
   ],
   "source": [
    "df.antiviral_medication.isnull().sum()"
   ]
  },
  {
   "cell_type": "code",
   "execution_count": 32,
   "id": "1ff6e66b",
   "metadata": {},
   "outputs": [
    {
     "name": "stdout",
     "output_type": "stream",
     "text": [
      "h1n1_vaccine              0     1\n",
      "antiviral_medication             \n",
      "0.0                   20103  5303\n",
      "1.0                     930   371\n"
     ]
    }
   ],
   "source": [
    "df_tabel = pd.crosstab(df['antiviral_medication'],df['h1n1_vaccine'])\n",
    "print(df_tabel)"
   ]
  },
  {
   "cell_type": "code",
   "execution_count": 33,
   "id": "904d3aae",
   "metadata": {},
   "outputs": [
    {
     "name": "stdout",
     "output_type": "stream",
     "text": [
      "Observed values:-\n",
      " [[20103  5303]\n",
      " [  930   371]]\n"
     ]
    }
   ],
   "source": [
    "#observed values\n",
    "observed_values = df_tabel.values\n",
    "print('Observed values:-\\n',observed_values)"
   ]
  },
  {
   "cell_type": "code",
   "execution_count": 34,
   "id": "61667408",
   "metadata": {
    "scrolled": true
   },
   "outputs": [
    {
     "data": {
      "text/plain": [
       "(42.75923842883827,\n",
       " 6.190881602149606e-11,\n",
       " 1,\n",
       " array([[20008.40221665,  5397.59778335],\n",
       "        [ 1024.59778335,   276.40221665]]))"
      ]
     },
     "execution_count": 34,
     "metadata": {},
     "output_type": "execute_result"
    }
   ],
   "source": [
    "stats.chi2_contingency(observed_values)"
   ]
  },
  {
   "cell_type": "code",
   "execution_count": 35,
   "id": "54cd1f10",
   "metadata": {},
   "outputs": [
    {
     "data": {
      "text/plain": [
       "1.0    19228\n",
       "0.0     7271\n",
       "Name: contact_avoidance, dtype: int64"
      ]
     },
     "execution_count": 35,
     "metadata": {},
     "output_type": "execute_result"
    }
   ],
   "source": [
    "df.contact_avoidance.value_counts()"
   ]
  },
  {
   "cell_type": "code",
   "execution_count": 36,
   "id": "ace8c50a",
   "metadata": {},
   "outputs": [
    {
     "data": {
      "text/plain": [
       "208"
      ]
     },
     "execution_count": 36,
     "metadata": {},
     "output_type": "execute_result"
    }
   ],
   "source": [
    "df.contact_avoidance.isnull().sum()"
   ]
  },
  {
   "cell_type": "code",
   "execution_count": 37,
   "id": "b51af660",
   "metadata": {},
   "outputs": [],
   "source": [
    "df.contact_avoidance.fillna(1.0,inplace = True)"
   ]
  },
  {
   "cell_type": "code",
   "execution_count": 38,
   "id": "6f17086f",
   "metadata": {},
   "outputs": [
    {
     "data": {
      "text/plain": [
       "0"
      ]
     },
     "execution_count": 38,
     "metadata": {},
     "output_type": "execute_result"
    }
   ],
   "source": [
    "df.contact_avoidance.isnull().sum()"
   ]
  },
  {
   "cell_type": "code",
   "execution_count": 39,
   "id": "878324b0",
   "metadata": {
    "scrolled": true
   },
   "outputs": [
    {
     "name": "stdout",
     "output_type": "stream",
     "text": [
      "h1n1_vaccine           0     1\n",
      "contact_avoidance             \n",
      "0.0                 5954  1317\n",
      "1.0                15079  4357\n"
     ]
    }
   ],
   "source": [
    "df_tabel = pd.crosstab(df['contact_avoidance'],df['h1n1_vaccine'])\n",
    "print(df_tabel)"
   ]
  },
  {
   "cell_type": "code",
   "execution_count": 40,
   "id": "a93ca244",
   "metadata": {},
   "outputs": [
    {
     "name": "stdout",
     "output_type": "stream",
     "text": [
      "Observed values:-\n",
      " [[ 5954  1317]\n",
      " [15079  4357]]\n"
     ]
    }
   ],
   "source": [
    "#observed values\n",
    "observed_values = df_tabel.values\n",
    "print('Observed values:-\\n',observed_values)"
   ]
  },
  {
   "cell_type": "code",
   "execution_count": 41,
   "id": "44be17f1",
   "metadata": {},
   "outputs": [
    {
     "data": {
      "text/plain": [
       "(58.330240730060524,\n",
       " 2.2161129058289884e-14,\n",
       " 1,\n",
       " array([[ 5726.24941027,  1544.75058973],\n",
       "        [15306.75058973,  4129.24941027]]))"
      ]
     },
     "execution_count": 41,
     "metadata": {},
     "output_type": "execute_result"
    }
   ],
   "source": [
    "stats.chi2_contingency(observed_values)"
   ]
  },
  {
   "cell_type": "code",
   "execution_count": 42,
   "id": "5144bab7",
   "metadata": {},
   "outputs": [
    {
     "data": {
      "text/plain": [
       "0.0    24847\n",
       "1.0     1841\n",
       "Name: bought_face_mask, dtype: int64"
      ]
     },
     "execution_count": 42,
     "metadata": {},
     "output_type": "execute_result"
    }
   ],
   "source": [
    "df.bought_face_mask.value_counts()"
   ]
  },
  {
   "cell_type": "code",
   "execution_count": 43,
   "id": "96393ba8",
   "metadata": {},
   "outputs": [
    {
     "data": {
      "text/plain": [
       "19"
      ]
     },
     "execution_count": 43,
     "metadata": {},
     "output_type": "execute_result"
    }
   ],
   "source": [
    "df.bought_face_mask.isnull().sum()"
   ]
  },
  {
   "cell_type": "code",
   "execution_count": 44,
   "id": "59353524",
   "metadata": {},
   "outputs": [],
   "source": [
    "df.bought_face_mask.fillna(0.0,inplace = True)"
   ]
  },
  {
   "cell_type": "code",
   "execution_count": 45,
   "id": "3e85dc12",
   "metadata": {},
   "outputs": [
    {
     "data": {
      "text/plain": [
       "0"
      ]
     },
     "execution_count": 45,
     "metadata": {},
     "output_type": "execute_result"
    }
   ],
   "source": [
    "df.bought_face_mask.isnull().sum()"
   ]
  },
  {
   "cell_type": "code",
   "execution_count": 46,
   "id": "02d2f95b",
   "metadata": {},
   "outputs": [
    {
     "name": "stdout",
     "output_type": "stream",
     "text": [
      "h1n1_vaccine          0     1\n",
      "bought_face_mask             \n",
      "0.0               19778  5088\n",
      "1.0                1255   586\n"
     ]
    }
   ],
   "source": [
    "df_tabel = pd.crosstab(df['bought_face_mask'],df['h1n1_vaccine'])\n",
    "print(df_tabel)"
   ]
  },
  {
   "cell_type": "code",
   "execution_count": 47,
   "id": "77d81eb2",
   "metadata": {},
   "outputs": [
    {
     "name": "stdout",
     "output_type": "stream",
     "text": [
      "Observed values:-\n",
      " [[19778  5088]\n",
      " [ 1255   586]]\n"
     ]
    }
   ],
   "source": [
    "#observed values\n",
    "observed_values = df_tabel.values\n",
    "print('Observed values:-\\n',observed_values)"
   ]
  },
  {
   "cell_type": "code",
   "execution_count": 48,
   "id": "51a3c137",
   "metadata": {
    "scrolled": true
   },
   "outputs": [
    {
     "data": {
      "text/plain": [
       "(131.7334457101758,\n",
       " 1.7112022110037095e-30,\n",
       " 1,\n",
       " array([[19583.12719512,  5282.87280488],\n",
       "        [ 1449.87280488,   391.12719512]]))"
      ]
     },
     "execution_count": 48,
     "metadata": {},
     "output_type": "execute_result"
    }
   ],
   "source": [
    "stats.chi2_contingency(observed_values)"
   ]
  },
  {
   "cell_type": "code",
   "execution_count": 49,
   "id": "e6b6f432",
   "metadata": {},
   "outputs": [
    {
     "data": {
      "text/plain": [
       "1.0    22015\n",
       "0.0     4650\n",
       "Name: wash_hands_frequently, dtype: int64"
      ]
     },
     "execution_count": 49,
     "metadata": {},
     "output_type": "execute_result"
    }
   ],
   "source": [
    "df.wash_hands_frequently.value_counts()"
   ]
  },
  {
   "cell_type": "code",
   "execution_count": 50,
   "id": "45ec043a",
   "metadata": {},
   "outputs": [
    {
     "data": {
      "text/plain": [
       "42"
      ]
     },
     "execution_count": 50,
     "metadata": {},
     "output_type": "execute_result"
    }
   ],
   "source": [
    "df.wash_hands_frequently.isnull().sum()"
   ]
  },
  {
   "cell_type": "code",
   "execution_count": 51,
   "id": "268c0ff2",
   "metadata": {},
   "outputs": [],
   "source": [
    "df.wash_hands_frequently.fillna(1.0,inplace= True)"
   ]
  },
  {
   "cell_type": "code",
   "execution_count": 52,
   "id": "c2f9a330",
   "metadata": {},
   "outputs": [
    {
     "data": {
      "text/plain": [
       "0"
      ]
     },
     "execution_count": 52,
     "metadata": {},
     "output_type": "execute_result"
    }
   ],
   "source": [
    "df.wash_hands_frequently.isnull().sum()"
   ]
  },
  {
   "cell_type": "code",
   "execution_count": 53,
   "id": "2914c149",
   "metadata": {},
   "outputs": [
    {
     "name": "stdout",
     "output_type": "stream",
     "text": [
      "h1n1_vaccine               0     1\n",
      "wash_hands_frequently             \n",
      "0.0                     3971   679\n",
      "1.0                    17062  4995\n"
     ]
    }
   ],
   "source": [
    "df_tabel = pd.crosstab(df['wash_hands_frequently'],df['h1n1_vaccine'])\n",
    "print(df_tabel)"
   ]
  },
  {
   "cell_type": "code",
   "execution_count": 54,
   "id": "f39e56e8",
   "metadata": {},
   "outputs": [
    {
     "name": "stdout",
     "output_type": "stream",
     "text": [
      "Observed values:-\n",
      " [[ 3971   679]\n",
      " [17062  4995]]\n"
     ]
    }
   ],
   "source": [
    "#observed values\n",
    "observed_values = df_tabel.values\n",
    "print('Observed values:-\\n',observed_values)"
   ]
  },
  {
   "cell_type": "code",
   "execution_count": 55,
   "id": "36ace199",
   "metadata": {
    "scrolled": true
   },
   "outputs": [
    {
     "data": {
      "text/plain": [
       "(148.02701040329165,\n",
       " 4.679794352605926e-34,\n",
       " 1,\n",
       " array([[ 3662.09046317,   987.90953683],\n",
       "        [17370.90953683,  4686.09046317]]))"
      ]
     },
     "execution_count": 55,
     "metadata": {},
     "output_type": "execute_result"
    }
   ],
   "source": [
    "stats.chi2_contingency(observed_values)"
   ]
  },
  {
   "cell_type": "code",
   "execution_count": 56,
   "id": "b3d0543d",
   "metadata": {},
   "outputs": [
    {
     "data": {
      "text/plain": [
       "0.0    17073\n",
       "1.0     9547\n",
       "Name: avoid_large_gatherings, dtype: int64"
      ]
     },
     "execution_count": 56,
     "metadata": {},
     "output_type": "execute_result"
    }
   ],
   "source": [
    "df.avoid_large_gatherings.value_counts()"
   ]
  },
  {
   "cell_type": "code",
   "execution_count": 57,
   "id": "41a62b9f",
   "metadata": {},
   "outputs": [
    {
     "data": {
      "text/plain": [
       "87"
      ]
     },
     "execution_count": 57,
     "metadata": {},
     "output_type": "execute_result"
    }
   ],
   "source": [
    "df.avoid_large_gatherings.isnull().sum()"
   ]
  },
  {
   "cell_type": "code",
   "execution_count": 58,
   "id": "c36c7dcc",
   "metadata": {},
   "outputs": [],
   "source": [
    "df.avoid_large_gatherings.fillna(0.0,inplace= True)"
   ]
  },
  {
   "cell_type": "code",
   "execution_count": 59,
   "id": "2580eb8a",
   "metadata": {},
   "outputs": [
    {
     "data": {
      "text/plain": [
       "0"
      ]
     },
     "execution_count": 59,
     "metadata": {},
     "output_type": "execute_result"
    }
   ],
   "source": [
    "df.avoid_large_gatherings.isnull().sum()"
   ]
  },
  {
   "cell_type": "code",
   "execution_count": 60,
   "id": "b42f0386",
   "metadata": {},
   "outputs": [
    {
     "name": "stdout",
     "output_type": "stream",
     "text": [
      "h1n1_vaccine                0     1\n",
      "avoid_large_gatherings             \n",
      "0.0                     13609  3551\n",
      "1.0                      7424  2123\n"
     ]
    }
   ],
   "source": [
    "df_tabel = pd.crosstab(df['avoid_large_gatherings'],df['h1n1_vaccine'])\n",
    "print(df_tabel)"
   ]
  },
  {
   "cell_type": "code",
   "execution_count": 61,
   "id": "31225250",
   "metadata": {},
   "outputs": [
    {
     "name": "stdout",
     "output_type": "stream",
     "text": [
      "Observed values:-\n",
      " [[13609  3551]\n",
      " [ 7424  2123]]\n"
     ]
    }
   ],
   "source": [
    "#observed values\n",
    "observed_values = df_tabel.values\n",
    "print('Observed values:-\\n',observed_values)"
   ]
  },
  {
   "cell_type": "code",
   "execution_count": 62,
   "id": "a49f364e",
   "metadata": {
    "scrolled": true
   },
   "outputs": [
    {
     "data": {
      "text/plain": [
       "(8.646638092006247,\n",
       " 0.003276654049065037,\n",
       " 1,\n",
       " array([[13514.29512862,  3645.70487138],\n",
       "        [ 7518.70487138,  2028.29512862]]))"
      ]
     },
     "execution_count": 62,
     "metadata": {},
     "output_type": "execute_result"
    }
   ],
   "source": [
    "stats.chi2_contingency(observed_values)"
   ]
  },
  {
   "cell_type": "code",
   "execution_count": 63,
   "id": "bbdb3fd4",
   "metadata": {},
   "outputs": [
    {
     "data": {
      "text/plain": [
       "0.0    17644\n",
       "1.0     8981\n",
       "Name: reduced_outside_home_cont, dtype: int64"
      ]
     },
     "execution_count": 63,
     "metadata": {},
     "output_type": "execute_result"
    }
   ],
   "source": [
    "df.reduced_outside_home_cont.value_counts()"
   ]
  },
  {
   "cell_type": "code",
   "execution_count": 64,
   "id": "79561daa",
   "metadata": {},
   "outputs": [
    {
     "data": {
      "text/plain": [
       "82"
      ]
     },
     "execution_count": 64,
     "metadata": {},
     "output_type": "execute_result"
    }
   ],
   "source": [
    "df.reduced_outside_home_cont.isnull().sum()"
   ]
  },
  {
   "cell_type": "code",
   "execution_count": 65,
   "id": "3268951e",
   "metadata": {},
   "outputs": [],
   "source": [
    "df.reduced_outside_home_cont.fillna(0.0,inplace= True)"
   ]
  },
  {
   "cell_type": "code",
   "execution_count": 66,
   "id": "985568f5",
   "metadata": {},
   "outputs": [
    {
     "data": {
      "text/plain": [
       "0"
      ]
     },
     "execution_count": 66,
     "metadata": {},
     "output_type": "execute_result"
    }
   ],
   "source": [
    "df.reduced_outside_home_cont.isnull().sum()"
   ]
  },
  {
   "cell_type": "code",
   "execution_count": 67,
   "id": "7d7a40fe",
   "metadata": {},
   "outputs": [
    {
     "name": "stdout",
     "output_type": "stream",
     "text": [
      "h1n1_vaccine                   0     1\n",
      "reduced_outside_home_cont             \n",
      "0.0                        14074  3652\n",
      "1.0                         6959  2022\n"
     ]
    }
   ],
   "source": [
    "df_tabel = pd.crosstab(df['reduced_outside_home_cont'],df['h1n1_vaccine'])\n",
    "print(df_tabel)"
   ]
  },
  {
   "cell_type": "code",
   "execution_count": 68,
   "id": "7bdbcff9",
   "metadata": {},
   "outputs": [
    {
     "name": "stdout",
     "output_type": "stream",
     "text": [
      "Observed values:-\n",
      " [[14074  3652]\n",
      " [ 6959  2022]]\n"
     ]
    }
   ],
   "source": [
    "#observed values\n",
    "observed_values = df_tabel.values\n",
    "print('Observed values:-\\n',observed_values)"
   ]
  },
  {
   "cell_type": "code",
   "execution_count": 69,
   "id": "883678ea",
   "metadata": {
    "scrolled": true
   },
   "outputs": [
    {
     "data": {
      "text/plain": [
       "(12.905838675757487,\n",
       " 0.00032755872863934096,\n",
       " 1,\n",
       " array([[13960.04635489,  3765.95364511],\n",
       "        [ 7072.95364511,  1908.04635489]]))"
      ]
     },
     "execution_count": 69,
     "metadata": {},
     "output_type": "execute_result"
    }
   ],
   "source": [
    "stats.chi2_contingency(observed_values)"
   ]
  },
  {
   "cell_type": "code",
   "execution_count": 70,
   "id": "00e4fecd",
   "metadata": {},
   "outputs": [
    {
     "data": {
      "text/plain": [
       "1.0    18001\n",
       "0.0     8578\n",
       "Name: avoid_touch_face, dtype: int64"
      ]
     },
     "execution_count": 70,
     "metadata": {},
     "output_type": "execute_result"
    }
   ],
   "source": [
    "df.avoid_touch_face.value_counts()"
   ]
  },
  {
   "cell_type": "code",
   "execution_count": 71,
   "id": "e03d3293",
   "metadata": {},
   "outputs": [
    {
     "data": {
      "text/plain": [
       "128"
      ]
     },
     "execution_count": 71,
     "metadata": {},
     "output_type": "execute_result"
    }
   ],
   "source": [
    "df.avoid_touch_face.isnull().sum()"
   ]
  },
  {
   "cell_type": "code",
   "execution_count": 72,
   "id": "7c2a43e2",
   "metadata": {},
   "outputs": [],
   "source": [
    "df.avoid_touch_face.fillna(1.0,inplace= True)"
   ]
  },
  {
   "cell_type": "code",
   "execution_count": 73,
   "id": "35bd8570",
   "metadata": {},
   "outputs": [
    {
     "data": {
      "text/plain": [
       "0"
      ]
     },
     "execution_count": 73,
     "metadata": {},
     "output_type": "execute_result"
    }
   ],
   "source": [
    "df.avoid_touch_face.isnull().sum()"
   ]
  },
  {
   "cell_type": "code",
   "execution_count": 74,
   "id": "b200ede2",
   "metadata": {},
   "outputs": [
    {
     "name": "stdout",
     "output_type": "stream",
     "text": [
      "h1n1_vaccine          0     1\n",
      "avoid_touch_face             \n",
      "0.0                7117  1461\n",
      "1.0               13916  4213\n"
     ]
    }
   ],
   "source": [
    "df_tabel = pd.crosstab(df['avoid_touch_face'],df['h1n1_vaccine'])\n",
    "print(df_tabel)"
   ]
  },
  {
   "cell_type": "code",
   "execution_count": 75,
   "id": "1a45ba62",
   "metadata": {},
   "outputs": [
    {
     "name": "stdout",
     "output_type": "stream",
     "text": [
      "Observed values:-\n",
      " [[ 7117  1461]\n",
      " [13916  4213]]\n"
     ]
    }
   ],
   "source": [
    "#observed values\n",
    "observed_values = df_tabel.values\n",
    "print('Observed values:-\\n',observed_values)"
   ]
  },
  {
   "cell_type": "code",
   "execution_count": 76,
   "id": "08150799",
   "metadata": {
    "scrolled": true
   },
   "outputs": [
    {
     "data": {
      "text/plain": [
       "(133.71030825608494,\n",
       " 6.3218424278463514e-31,\n",
       " 1,\n",
       " array([[ 6755.57247164,  1822.42752836],\n",
       "        [14277.42752836,  3851.57247164]]))"
      ]
     },
     "execution_count": 76,
     "metadata": {},
     "output_type": "execute_result"
    }
   ],
   "source": [
    "stats.chi2_contingency(observed_values)"
   ]
  },
  {
   "cell_type": "code",
   "execution_count": 77,
   "id": "c2e01235",
   "metadata": {},
   "outputs": [
    {
     "data": {
      "text/plain": [
       "0.0    19139\n",
       "1.0     5408\n",
       "Name: dr_recc_h1n1_vacc, dtype: int64"
      ]
     },
     "execution_count": 77,
     "metadata": {},
     "output_type": "execute_result"
    }
   ],
   "source": [
    "df.dr_recc_h1n1_vacc.value_counts()"
   ]
  },
  {
   "cell_type": "code",
   "execution_count": 78,
   "id": "4dba459c",
   "metadata": {},
   "outputs": [
    {
     "data": {
      "text/plain": [
       "2160"
      ]
     },
     "execution_count": 78,
     "metadata": {},
     "output_type": "execute_result"
    }
   ],
   "source": [
    "df.dr_recc_h1n1_vacc.isnull().sum()"
   ]
  },
  {
   "cell_type": "code",
   "execution_count": 79,
   "id": "0306dcdd",
   "metadata": {},
   "outputs": [],
   "source": [
    "df.dr_recc_h1n1_vacc.fillna(0.0,inplace= True)"
   ]
  },
  {
   "cell_type": "code",
   "execution_count": 80,
   "id": "7b2dc3f9",
   "metadata": {},
   "outputs": [
    {
     "data": {
      "text/plain": [
       "0"
      ]
     },
     "execution_count": 80,
     "metadata": {},
     "output_type": "execute_result"
    }
   ],
   "source": [
    "df.dr_recc_h1n1_vacc.isnull().sum()"
   ]
  },
  {
   "cell_type": "code",
   "execution_count": 81,
   "id": "a2ef73b3",
   "metadata": {},
   "outputs": [
    {
     "name": "stdout",
     "output_type": "stream",
     "text": [
      "h1n1_vaccine           0     1\n",
      "dr_recc_h1n1_vacc             \n",
      "0.0                18504  2795\n",
      "1.0                 2529  2879\n"
     ]
    }
   ],
   "source": [
    "df_tabel = pd.crosstab(df['dr_recc_h1n1_vacc'],df['h1n1_vaccine'])\n",
    "print(df_tabel)"
   ]
  },
  {
   "cell_type": "code",
   "execution_count": 82,
   "id": "b33747d7",
   "metadata": {},
   "outputs": [
    {
     "name": "stdout",
     "output_type": "stream",
     "text": [
      "Observed values:-\n",
      " [[18504  2795]\n",
      " [ 2529  2879]]\n"
     ]
    }
   ],
   "source": [
    "#observed values\n",
    "observed_values = df_tabel.values\n",
    "print('Observed values:-\\n',observed_values)"
   ]
  },
  {
   "cell_type": "code",
   "execution_count": 83,
   "id": "96be9361",
   "metadata": {
    "scrolled": true
   },
   "outputs": [
    {
     "data": {
      "text/plain": [
       "(4145.294661439282,\n",
       " 0.0,\n",
       " 1,\n",
       " array([[16773.94941401,  4525.05058599],\n",
       "        [ 4259.05058599,  1148.94941401]]))"
      ]
     },
     "execution_count": 83,
     "metadata": {},
     "output_type": "execute_result"
    }
   ],
   "source": [
    "stats.chi2_contingency(observed_values)"
   ]
  },
  {
   "cell_type": "code",
   "execution_count": 84,
   "id": "4ebe0328",
   "metadata": {},
   "outputs": [
    {
     "data": {
      "text/plain": [
       "0.0    16453\n",
       "1.0     8094\n",
       "Name: dr_recc_seasonal_vacc, dtype: int64"
      ]
     },
     "execution_count": 84,
     "metadata": {},
     "output_type": "execute_result"
    }
   ],
   "source": [
    "df.dr_recc_seasonal_vacc.value_counts()"
   ]
  },
  {
   "cell_type": "code",
   "execution_count": 85,
   "id": "208fc55a",
   "metadata": {},
   "outputs": [
    {
     "data": {
      "text/plain": [
       "2160"
      ]
     },
     "execution_count": 85,
     "metadata": {},
     "output_type": "execute_result"
    }
   ],
   "source": [
    "df.dr_recc_seasonal_vacc.isnull().sum()"
   ]
  },
  {
   "cell_type": "code",
   "execution_count": 86,
   "id": "d80246ed",
   "metadata": {},
   "outputs": [],
   "source": [
    "df.dr_recc_seasonal_vacc.fillna(0.0,inplace= True)"
   ]
  },
  {
   "cell_type": "code",
   "execution_count": 87,
   "id": "2febbfcd",
   "metadata": {},
   "outputs": [
    {
     "data": {
      "text/plain": [
       "0"
      ]
     },
     "execution_count": 87,
     "metadata": {},
     "output_type": "execute_result"
    }
   ],
   "source": [
    "df.dr_recc_seasonal_vacc.isnull().sum()"
   ]
  },
  {
   "cell_type": "code",
   "execution_count": 88,
   "id": "41688eb4",
   "metadata": {},
   "outputs": [
    {
     "name": "stdout",
     "output_type": "stream",
     "text": [
      "h1n1_vaccine               0     1\n",
      "dr_recc_seasonal_vacc             \n",
      "0.0                    15758  2855\n",
      "1.0                     5275  2819\n"
     ]
    }
   ],
   "source": [
    "df_tabel = pd.crosstab(df['dr_recc_seasonal_vacc'],df['h1n1_vaccine'])\n",
    "print(df_tabel)"
   ]
  },
  {
   "cell_type": "code",
   "execution_count": 89,
   "id": "65bced91",
   "metadata": {},
   "outputs": [
    {
     "name": "stdout",
     "output_type": "stream",
     "text": [
      "Observed values:-\n",
      " [[15758  2855]\n",
      " [ 5275  2819]]\n"
     ]
    }
   ],
   "source": [
    "#observed values\n",
    "observed_values = df_tabel.values\n",
    "print('Observed values:-\\n',observed_values)"
   ]
  },
  {
   "cell_type": "code",
   "execution_count": 90,
   "id": "a8a55634",
   "metadata": {
    "scrolled": true
   },
   "outputs": [
    {
     "data": {
      "text/plain": [
       "(1279.444850950977,\n",
       " 3.3126165190104603e-280,\n",
       " 1,\n",
       " array([[14658.59995507,  3954.40004493],\n",
       "        [ 6374.40004493,  1719.59995507]]))"
      ]
     },
     "execution_count": 90,
     "metadata": {},
     "output_type": "execute_result"
    }
   ],
   "source": [
    "stats.chi2_contingency(observed_values)"
   ]
  },
  {
   "cell_type": "code",
   "execution_count": 91,
   "id": "5c1882ae",
   "metadata": {},
   "outputs": [
    {
     "data": {
      "text/plain": [
       "0.0    18446\n",
       "1.0     7290\n",
       "Name: chronic_medic_condition, dtype: int64"
      ]
     },
     "execution_count": 91,
     "metadata": {},
     "output_type": "execute_result"
    }
   ],
   "source": [
    "df.chronic_medic_condition.value_counts()"
   ]
  },
  {
   "cell_type": "code",
   "execution_count": 92,
   "id": "137b7275",
   "metadata": {},
   "outputs": [
    {
     "data": {
      "text/plain": [
       "971"
      ]
     },
     "execution_count": 92,
     "metadata": {},
     "output_type": "execute_result"
    }
   ],
   "source": [
    "df.chronic_medic_condition.isnull().sum()"
   ]
  },
  {
   "cell_type": "code",
   "execution_count": 93,
   "id": "62a6f214",
   "metadata": {},
   "outputs": [],
   "source": [
    "df.chronic_medic_condition.fillna(0.0,inplace=True)"
   ]
  },
  {
   "cell_type": "code",
   "execution_count": 94,
   "id": "e0435709",
   "metadata": {},
   "outputs": [
    {
     "data": {
      "text/plain": [
       "0"
      ]
     },
     "execution_count": 94,
     "metadata": {},
     "output_type": "execute_result"
    }
   ],
   "source": [
    "df.chronic_medic_condition.isnull().sum()"
   ]
  },
  {
   "cell_type": "code",
   "execution_count": 95,
   "id": "f6548b3a",
   "metadata": {},
   "outputs": [
    {
     "name": "stdout",
     "output_type": "stream",
     "text": [
      "h1n1_vaccine                 0     1\n",
      "chronic_medic_condition             \n",
      "0.0                      15751  3666\n",
      "1.0                       5282  2008\n"
     ]
    }
   ],
   "source": [
    "df_tabel = pd.crosstab(df['chronic_medic_condition'],df['h1n1_vaccine'])\n",
    "print(df_tabel)"
   ]
  },
  {
   "cell_type": "code",
   "execution_count": 96,
   "id": "225e71b5",
   "metadata": {},
   "outputs": [
    {
     "name": "stdout",
     "output_type": "stream",
     "text": [
      "Observed values:-\n",
      " [[15751  3666]\n",
      " [ 5282  2008]]\n"
     ]
    }
   ],
   "source": [
    "#observed values\n",
    "observed_values = df_tabel.values\n",
    "print('Observed values:-\\n',observed_values)"
   ]
  },
  {
   "cell_type": "code",
   "execution_count": 97,
   "id": "e5a962cc",
   "metadata": {
    "scrolled": true
   },
   "outputs": [
    {
     "data": {
      "text/plain": [
       "(237.2776362003578,\n",
       " 1.5428233060113362e-53,\n",
       " 1,\n",
       " array([[15291.78720935,  4125.21279065],\n",
       "        [ 5741.21279065,  1548.78720935]]))"
      ]
     },
     "execution_count": 97,
     "metadata": {},
     "output_type": "execute_result"
    }
   ],
   "source": [
    "stats.chi2_contingency(observed_values)"
   ]
  },
  {
   "cell_type": "code",
   "execution_count": 98,
   "id": "c6746a2a",
   "metadata": {},
   "outputs": [
    {
     "data": {
      "text/plain": [
       "0.0    23749\n",
       "1.0     2138\n",
       "Name: cont_child_undr_6_mnths, dtype: int64"
      ]
     },
     "execution_count": 98,
     "metadata": {},
     "output_type": "execute_result"
    }
   ],
   "source": [
    "df.cont_child_undr_6_mnths.value_counts()"
   ]
  },
  {
   "cell_type": "code",
   "execution_count": 99,
   "id": "252ccfcd",
   "metadata": {},
   "outputs": [
    {
     "data": {
      "text/plain": [
       "820"
      ]
     },
     "execution_count": 99,
     "metadata": {},
     "output_type": "execute_result"
    }
   ],
   "source": [
    "df.cont_child_undr_6_mnths.isnull().sum()"
   ]
  },
  {
   "cell_type": "code",
   "execution_count": 100,
   "id": "a13aedda",
   "metadata": {},
   "outputs": [],
   "source": [
    "df.cont_child_undr_6_mnths.fillna(0.0,inplace=True)"
   ]
  },
  {
   "cell_type": "code",
   "execution_count": 101,
   "id": "9f74b57d",
   "metadata": {},
   "outputs": [
    {
     "data": {
      "text/plain": [
       "0"
      ]
     },
     "execution_count": 101,
     "metadata": {},
     "output_type": "execute_result"
    }
   ],
   "source": [
    "df.cont_child_undr_6_mnths.isnull().sum()"
   ]
  },
  {
   "cell_type": "code",
   "execution_count": 102,
   "id": "60446aad",
   "metadata": {},
   "outputs": [
    {
     "name": "stdout",
     "output_type": "stream",
     "text": [
      "h1n1_vaccine                 0     1\n",
      "cont_child_undr_6_mnths             \n",
      "0.0                      19547  5022\n",
      "1.0                       1486   652\n"
     ]
    }
   ],
   "source": [
    "df_tabel = pd.crosstab(df['cont_child_undr_6_mnths'],df['h1n1_vaccine'])\n",
    "print(df_tabel)"
   ]
  },
  {
   "cell_type": "code",
   "execution_count": 103,
   "id": "e0ac59e0",
   "metadata": {},
   "outputs": [
    {
     "name": "stdout",
     "output_type": "stream",
     "text": [
      "Observed values:-\n",
      " [[19547  5022]\n",
      " [ 1486   652]]\n"
     ]
    }
   ],
   "source": [
    "#observed values\n",
    "observed_values = df_tabel.values\n",
    "print('Observed values:-\\n',observed_values)"
   ]
  },
  {
   "cell_type": "code",
   "execution_count": 104,
   "id": "9f4ab447",
   "metadata": {
    "scrolled": true
   },
   "outputs": [
    {
     "data": {
      "text/plain": [
       "(118.25774127744958,\n",
       " 1.5225977070738918e-27,\n",
       " 1,\n",
       " array([[19349.22593328,  5219.77406672],\n",
       "        [ 1683.77406672,   454.22593328]]))"
      ]
     },
     "execution_count": 104,
     "metadata": {},
     "output_type": "execute_result"
    }
   ],
   "source": [
    "stats.chi2_contingency(observed_values)"
   ]
  },
  {
   "cell_type": "code",
   "execution_count": 105,
   "id": "62ebf7f3",
   "metadata": {},
   "outputs": [],
   "source": [
    "#is_health_worker"
   ]
  },
  {
   "cell_type": "code",
   "execution_count": 106,
   "id": "03ebae8c",
   "metadata": {},
   "outputs": [
    {
     "data": {
      "text/plain": [
       "0.0    23004\n",
       "1.0     2899\n",
       "Name: is_health_worker, dtype: int64"
      ]
     },
     "execution_count": 106,
     "metadata": {},
     "output_type": "execute_result"
    }
   ],
   "source": [
    "df.is_health_worker.value_counts()"
   ]
  },
  {
   "cell_type": "code",
   "execution_count": 107,
   "id": "da438340",
   "metadata": {},
   "outputs": [
    {
     "data": {
      "text/plain": [
       "804"
      ]
     },
     "execution_count": 107,
     "metadata": {},
     "output_type": "execute_result"
    }
   ],
   "source": [
    "df.is_health_worker.isnull().sum()"
   ]
  },
  {
   "cell_type": "code",
   "execution_count": 108,
   "id": "b3633b9a",
   "metadata": {},
   "outputs": [],
   "source": [
    "df.is_health_worker.fillna(0.0,inplace=True)"
   ]
  },
  {
   "cell_type": "code",
   "execution_count": 109,
   "id": "be78e97d",
   "metadata": {},
   "outputs": [
    {
     "data": {
      "text/plain": [
       "0"
      ]
     },
     "execution_count": 109,
     "metadata": {},
     "output_type": "execute_result"
    }
   ],
   "source": [
    "df.is_health_worker.isnull().sum()"
   ]
  },
  {
   "cell_type": "code",
   "execution_count": 110,
   "id": "a68b4c48",
   "metadata": {},
   "outputs": [
    {
     "name": "stdout",
     "output_type": "stream",
     "text": [
      "h1n1_vaccine          0     1\n",
      "is_health_worker             \n",
      "0.0               19321  4487\n",
      "1.0                1712  1187\n"
     ]
    }
   ],
   "source": [
    "df_tabel = pd.crosstab(df['is_health_worker'],df['h1n1_vaccine'])\n",
    "print(df_tabel)"
   ]
  },
  {
   "cell_type": "code",
   "execution_count": 111,
   "id": "d763698e",
   "metadata": {},
   "outputs": [
    {
     "name": "stdout",
     "output_type": "stream",
     "text": [
      "Observed values:-\n",
      " [[19321  4487]\n",
      " [ 1712  1187]]\n"
     ]
    }
   ],
   "source": [
    "#observed values\n",
    "observed_values = df_tabel.values\n",
    "print('Observed values:-\\n',observed_values)"
   ]
  },
  {
   "cell_type": "code",
   "execution_count": 112,
   "id": "0026b94f",
   "metadata": {
    "scrolled": true
   },
   "outputs": [
    {
     "data": {
      "text/plain": [
       "(752.9607596778831,\n",
       " 9.112289333676525e-166,\n",
       " 1,\n",
       " array([[18749.90317145,  5058.09682855],\n",
       "        [ 2283.09682855,   615.90317145]]))"
      ]
     },
     "execution_count": 112,
     "metadata": {},
     "output_type": "execute_result"
    }
   ],
   "source": [
    "stats.chi2_contingency(observed_values)"
   ]
  },
  {
   "cell_type": "code",
   "execution_count": 113,
   "id": "21516496",
   "metadata": {},
   "outputs": [],
   "source": [
    "# has_health_insur"
   ]
  },
  {
   "cell_type": "code",
   "execution_count": 114,
   "id": "b55d9c8f",
   "metadata": {},
   "outputs": [
    {
     "data": {
      "text/plain": [
       "1.0    12697\n",
       "0.0     1736\n",
       "Name: has_health_insur, dtype: int64"
      ]
     },
     "execution_count": 114,
     "metadata": {},
     "output_type": "execute_result"
    }
   ],
   "source": [
    "df.has_health_insur.value_counts()"
   ]
  },
  {
   "cell_type": "code",
   "execution_count": 115,
   "id": "8010102e",
   "metadata": {},
   "outputs": [
    {
     "data": {
      "text/plain": [
       "12274"
      ]
     },
     "execution_count": 115,
     "metadata": {},
     "output_type": "execute_result"
    }
   ],
   "source": [
    "df.has_health_insur.isnull().sum()"
   ]
  },
  {
   "cell_type": "code",
   "execution_count": 116,
   "id": "77b88726",
   "metadata": {},
   "outputs": [],
   "source": [
    "df.has_health_insur.fillna(1.0,inplace=True)"
   ]
  },
  {
   "cell_type": "code",
   "execution_count": 117,
   "id": "bbb31989",
   "metadata": {},
   "outputs": [
    {
     "data": {
      "text/plain": [
       "0"
      ]
     },
     "execution_count": 117,
     "metadata": {},
     "output_type": "execute_result"
    }
   ],
   "source": [
    "df.has_health_insur.isnull().sum()"
   ]
  },
  {
   "cell_type": "code",
   "execution_count": 118,
   "id": "80e5ef2d",
   "metadata": {},
   "outputs": [
    {
     "name": "stdout",
     "output_type": "stream",
     "text": [
      "h1n1_vaccine          0     1\n",
      "has_health_insur             \n",
      "0.0                1480   256\n",
      "1.0               19553  5418\n"
     ]
    }
   ],
   "source": [
    "df_tabel = pd.crosstab(df['has_health_insur'],df['h1n1_vaccine'])\n",
    "print(df_tabel)"
   ]
  },
  {
   "cell_type": "code",
   "execution_count": 119,
   "id": "203b3c1e",
   "metadata": {},
   "outputs": [
    {
     "name": "stdout",
     "output_type": "stream",
     "text": [
      "Observed values:-\n",
      " [[ 1480   256]\n",
      " [19553  5418]]\n"
     ]
    }
   ],
   "source": [
    "#observed values\n",
    "observed_values = df_tabel.values\n",
    "print('Observed values:-\\n',observed_values)"
   ]
  },
  {
   "cell_type": "code",
   "execution_count": 120,
   "id": "082e5f72",
   "metadata": {
    "scrolled": true
   },
   "outputs": [
    {
     "data": {
      "text/plain": [
       "(46.45258649399282,\n",
       " 9.386237644434308e-12,\n",
       " 1,\n",
       " array([[ 1367.18043959,   368.81956041],\n",
       "        [19665.81956041,  5305.18043959]]))"
      ]
     },
     "execution_count": 120,
     "metadata": {},
     "output_type": "execute_result"
    }
   ],
   "source": [
    "stats.chi2_contingency(observed_values)"
   ]
  },
  {
   "cell_type": "code",
   "execution_count": 121,
   "id": "c78b5474",
   "metadata": {},
   "outputs": [],
   "source": [
    "# is_h1n1_vacc_effective"
   ]
  },
  {
   "cell_type": "code",
   "execution_count": 122,
   "id": "158e97a3",
   "metadata": {},
   "outputs": [
    {
     "data": {
      "text/plain": [
       "4.0    11683\n",
       "5.0     7166\n",
       "3.0     4723\n",
       "2.0     1858\n",
       "1.0      886\n",
       "Name: is_h1n1_vacc_effective, dtype: int64"
      ]
     },
     "execution_count": 122,
     "metadata": {},
     "output_type": "execute_result"
    }
   ],
   "source": [
    "df.is_h1n1_vacc_effective.value_counts()"
   ]
  },
  {
   "cell_type": "code",
   "execution_count": 123,
   "id": "7de4ed83",
   "metadata": {},
   "outputs": [
    {
     "data": {
      "text/plain": [
       "391"
      ]
     },
     "execution_count": 123,
     "metadata": {},
     "output_type": "execute_result"
    }
   ],
   "source": [
    "df.is_h1n1_vacc_effective.isnull().sum()"
   ]
  },
  {
   "cell_type": "code",
   "execution_count": 124,
   "id": "2ee78958",
   "metadata": {},
   "outputs": [],
   "source": [
    "df.is_h1n1_vacc_effective.fillna(4.0,inplace=True)"
   ]
  },
  {
   "cell_type": "code",
   "execution_count": 125,
   "id": "30498fbd",
   "metadata": {},
   "outputs": [
    {
     "data": {
      "text/plain": [
       "0"
      ]
     },
     "execution_count": 125,
     "metadata": {},
     "output_type": "execute_result"
    }
   ],
   "source": [
    "df.is_h1n1_vacc_effective.isnull().sum()"
   ]
  },
  {
   "cell_type": "code",
   "execution_count": 126,
   "id": "62a08be8",
   "metadata": {},
   "outputs": [
    {
     "name": "stdout",
     "output_type": "stream",
     "text": [
      "h1n1_vaccine               0     1\n",
      "is_h1n1_vacc_effective            \n",
      "1.0                      844    42\n",
      "2.0                     1763    95\n",
      "3.0                     4224   499\n",
      "4.0                     9937  2137\n",
      "5.0                     4265  2901\n"
     ]
    }
   ],
   "source": [
    "df_tabel = pd.crosstab(df['is_h1n1_vacc_effective'],df['h1n1_vaccine'])\n",
    "print(df_tabel)"
   ]
  },
  {
   "cell_type": "code",
   "execution_count": 127,
   "id": "3480edb0",
   "metadata": {},
   "outputs": [
    {
     "name": "stdout",
     "output_type": "stream",
     "text": [
      "Observed values:-\n",
      " [[ 844   42]\n",
      " [1763   95]\n",
      " [4224  499]\n",
      " [9937 2137]\n",
      " [4265 2901]]\n"
     ]
    }
   ],
   "source": [
    "#observed values\n",
    "observed_values = df_tabel.values\n",
    "print('Observed values:-\\n',observed_values)"
   ]
  },
  {
   "cell_type": "code",
   "execution_count": 128,
   "id": "d5861345",
   "metadata": {
    "scrolled": true
   },
   "outputs": [
    {
     "data": {
      "text/plain": [
       "(2430.9882283574093,\n",
       " 0.0,\n",
       " 4,\n",
       " array([[ 697.76605384,  188.23394616],\n",
       "        [1463.2610926 ,  394.7389074 ],\n",
       "        [3719.58134571, 1003.41865429],\n",
       "        [9508.83446287, 2565.16553713],\n",
       "        [5643.55704497, 1522.44295503]]))"
      ]
     },
     "execution_count": 128,
     "metadata": {},
     "output_type": "execute_result"
    }
   ],
   "source": [
    "stats.chi2_contingency(observed_values)"
   ]
  },
  {
   "cell_type": "code",
   "execution_count": 129,
   "id": "8f1e9b1e",
   "metadata": {},
   "outputs": [],
   "source": [
    "# is_h1n1_risky"
   ]
  },
  {
   "cell_type": "code",
   "execution_count": 130,
   "id": "9f015bed",
   "metadata": {},
   "outputs": [
    {
     "data": {
      "text/plain": [
       "2.0    9919\n",
       "1.0    8139\n",
       "4.0    5394\n",
       "5.0    1750\n",
       "3.0    1117\n",
       "Name: is_h1n1_risky, dtype: int64"
      ]
     },
     "execution_count": 130,
     "metadata": {},
     "output_type": "execute_result"
    }
   ],
   "source": [
    "df.is_h1n1_risky.value_counts()"
   ]
  },
  {
   "cell_type": "code",
   "execution_count": 131,
   "id": "32fd340d",
   "metadata": {},
   "outputs": [
    {
     "data": {
      "text/plain": [
       "388"
      ]
     },
     "execution_count": 131,
     "metadata": {},
     "output_type": "execute_result"
    }
   ],
   "source": [
    "df.is_h1n1_risky.isnull().sum()"
   ]
  },
  {
   "cell_type": "code",
   "execution_count": 132,
   "id": "53a8d7d8",
   "metadata": {},
   "outputs": [],
   "source": [
    "df.is_h1n1_risky.fillna(2.0,inplace=True)"
   ]
  },
  {
   "cell_type": "code",
   "execution_count": 133,
   "id": "bc076d98",
   "metadata": {},
   "outputs": [
    {
     "data": {
      "text/plain": [
       "0"
      ]
     },
     "execution_count": 133,
     "metadata": {},
     "output_type": "execute_result"
    }
   ],
   "source": [
    "df.is_h1n1_risky.isnull().sum()"
   ]
  },
  {
   "cell_type": "code",
   "execution_count": 134,
   "id": "4ee9ef5a",
   "metadata": {},
   "outputs": [
    {
     "name": "stdout",
     "output_type": "stream",
     "text": [
      "h1n1_vaccine      0     1\n",
      "is_h1n1_risky            \n",
      "1.0            7420   719\n",
      "2.0            8555  1752\n",
      "3.0             923   194\n",
      "4.0            3279  2115\n",
      "5.0             856   894\n"
     ]
    }
   ],
   "source": [
    "df_tabel = pd.crosstab(df['is_h1n1_risky'],df['h1n1_vaccine'])\n",
    "print(df_tabel)"
   ]
  },
  {
   "cell_type": "code",
   "execution_count": 135,
   "id": "48607216",
   "metadata": {},
   "outputs": [
    {
     "name": "stdout",
     "output_type": "stream",
     "text": [
      "Observed values:-\n",
      " [[7420  719]\n",
      " [8555 1752]\n",
      " [ 923  194]\n",
      " [3279 2115]\n",
      " [ 856  894]]\n"
     ]
    }
   ],
   "source": [
    "#observed values\n",
    "observed_values = df_tabel.values\n",
    "print('Observed values:-\\n',observed_values)"
   ]
  },
  {
   "cell_type": "code",
   "execution_count": 136,
   "id": "0137215c",
   "metadata": {
    "scrolled": true
   },
   "outputs": [
    {
     "data": {
      "text/plain": [
       "(2842.259854334096,\n",
       " 0.0,\n",
       " 4,\n",
       " array([[6409.83963006, 1729.16036994],\n",
       "        [8117.24008687, 2189.75991313],\n",
       "        [ 879.6892575 ,  237.3107425 ],\n",
       "        [4248.02493728, 1145.97506272],\n",
       "        [1378.20608829,  371.79391171]]))"
      ]
     },
     "execution_count": 136,
     "metadata": {},
     "output_type": "execute_result"
    }
   ],
   "source": [
    "stats.chi2_contingency(observed_values)"
   ]
  },
  {
   "cell_type": "code",
   "execution_count": 137,
   "id": "d08e34f3",
   "metadata": {},
   "outputs": [],
   "source": [
    "# sick_from_h1n1_vacc"
   ]
  },
  {
   "cell_type": "code",
   "execution_count": 138,
   "id": "8a3a600c",
   "metadata": {},
   "outputs": [
    {
     "data": {
      "text/plain": [
       "2.0    9129\n",
       "1.0    8998\n",
       "4.0    5850\n",
       "5.0    2187\n",
       "3.0     148\n",
       "Name: sick_from_h1n1_vacc, dtype: int64"
      ]
     },
     "execution_count": 138,
     "metadata": {},
     "output_type": "execute_result"
    }
   ],
   "source": [
    "df.sick_from_h1n1_vacc.value_counts()"
   ]
  },
  {
   "cell_type": "code",
   "execution_count": 139,
   "id": "a715810a",
   "metadata": {},
   "outputs": [
    {
     "data": {
      "text/plain": [
       "395"
      ]
     },
     "execution_count": 139,
     "metadata": {},
     "output_type": "execute_result"
    }
   ],
   "source": [
    "df.sick_from_h1n1_vacc.isnull().sum()"
   ]
  },
  {
   "cell_type": "code",
   "execution_count": 140,
   "id": "be70a218",
   "metadata": {},
   "outputs": [],
   "source": [
    "df.sick_from_h1n1_vacc.fillna(2.0,inplace=True)"
   ]
  },
  {
   "cell_type": "code",
   "execution_count": 141,
   "id": "416e36d4",
   "metadata": {},
   "outputs": [
    {
     "data": {
      "text/plain": [
       "0"
      ]
     },
     "execution_count": 141,
     "metadata": {},
     "output_type": "execute_result"
    }
   ],
   "source": [
    "df.sick_from_h1n1_vacc.isnull().sum()"
   ]
  },
  {
   "cell_type": "code",
   "execution_count": 142,
   "id": "4e95a9ad",
   "metadata": {},
   "outputs": [
    {
     "name": "stdout",
     "output_type": "stream",
     "text": [
      "h1n1_vaccine            0     1\n",
      "sick_from_h1n1_vacc            \n",
      "1.0                  7157  1841\n",
      "2.0                  7862  1662\n",
      "3.0                   136    12\n",
      "4.0                  4304  1546\n",
      "5.0                  1574   613\n"
     ]
    }
   ],
   "source": [
    "df_tabel = pd.crosstab(df['sick_from_h1n1_vacc'],df['h1n1_vaccine'])\n",
    "print(df_tabel)"
   ]
  },
  {
   "cell_type": "code",
   "execution_count": 143,
   "id": "8e43b9a1",
   "metadata": {},
   "outputs": [
    {
     "name": "stdout",
     "output_type": "stream",
     "text": [
      "Observed values:-\n",
      " [[7157 1841]\n",
      " [7862 1662]\n",
      " [ 136   12]\n",
      " [4304 1546]\n",
      " [1574  613]]\n"
     ]
    }
   ],
   "source": [
    "#observed values\n",
    "observed_values = df_tabel.values\n",
    "print('Observed values:-\\n',observed_values)"
   ]
  },
  {
   "cell_type": "code",
   "execution_count": 144,
   "id": "71af5f21",
   "metadata": {
    "scrolled": true
   },
   "outputs": [
    {
     "data": {
      "text/plain": [
       "(254.59089268297026,\n",
       " 6.675769368968441e-54,\n",
       " 4,\n",
       " array([[7086.34193283, 1911.65806717],\n",
       "        [7500.59130565, 2023.40869435],\n",
       "        [ 116.55685775,   31.44314225],\n",
       "        [4607.14606657, 1242.85393343],\n",
       "        [1722.3638372 ,  464.6361628 ]]))"
      ]
     },
     "execution_count": 144,
     "metadata": {},
     "output_type": "execute_result"
    }
   ],
   "source": [
    "stats.chi2_contingency(observed_values)"
   ]
  },
  {
   "cell_type": "code",
   "execution_count": 145,
   "id": "6c3f0383",
   "metadata": {},
   "outputs": [],
   "source": [
    "# is_seas_vacc_effective"
   ]
  },
  {
   "cell_type": "code",
   "execution_count": 146,
   "id": "24fcd849",
   "metadata": {},
   "outputs": [
    {
     "data": {
      "text/plain": [
       "4.0    11629\n",
       "5.0     9973\n",
       "2.0     2206\n",
       "1.0     1221\n",
       "3.0     1216\n",
       "Name: is_seas_vacc_effective, dtype: int64"
      ]
     },
     "execution_count": 146,
     "metadata": {},
     "output_type": "execute_result"
    }
   ],
   "source": [
    "df.is_seas_vacc_effective.value_counts()"
   ]
  },
  {
   "cell_type": "code",
   "execution_count": 147,
   "id": "c19a0097",
   "metadata": {},
   "outputs": [
    {
     "data": {
      "text/plain": [
       "462"
      ]
     },
     "execution_count": 147,
     "metadata": {},
     "output_type": "execute_result"
    }
   ],
   "source": [
    "df.is_seas_vacc_effective.isnull().sum()"
   ]
  },
  {
   "cell_type": "code",
   "execution_count": 148,
   "id": "10484a96",
   "metadata": {},
   "outputs": [],
   "source": [
    "df.is_seas_vacc_effective.fillna(4.0,inplace=True)"
   ]
  },
  {
   "cell_type": "code",
   "execution_count": 149,
   "id": "fd267787",
   "metadata": {},
   "outputs": [
    {
     "data": {
      "text/plain": [
       "0"
      ]
     },
     "execution_count": 149,
     "metadata": {},
     "output_type": "execute_result"
    }
   ],
   "source": [
    "df.is_seas_vacc_effective.isnull().sum()"
   ]
  },
  {
   "cell_type": "code",
   "execution_count": 150,
   "id": "4da66ea5",
   "metadata": {},
   "outputs": [
    {
     "name": "stdout",
     "output_type": "stream",
     "text": [
      "h1n1_vaccine               0     1\n",
      "is_seas_vacc_effective            \n",
      "1.0                     1132    89\n",
      "2.0                     2001   205\n",
      "3.0                     1054   162\n",
      "4.0                     9949  2142\n",
      "5.0                     6897  3076\n"
     ]
    }
   ],
   "source": [
    "df_tabel = pd.crosstab(df['is_seas_vacc_effective'],df['h1n1_vaccine'])\n",
    "print(df_tabel)"
   ]
  },
  {
   "cell_type": "code",
   "execution_count": 151,
   "id": "622483aa",
   "metadata": {},
   "outputs": [
    {
     "name": "stdout",
     "output_type": "stream",
     "text": [
      "Observed values:-\n",
      " [[1132   89]\n",
      " [2001  205]\n",
      " [1054  162]\n",
      " [9949 2142]\n",
      " [6897 3076]]\n"
     ]
    }
   ],
   "source": [
    "#observed values\n",
    "observed_values = df_tabel.values\n",
    "print('Observed values:-\\n',observed_values)"
   ]
  },
  {
   "cell_type": "code",
   "execution_count": 152,
   "id": "6c0c84cd",
   "metadata": {
    "scrolled": true
   },
   "outputs": [
    {
     "data": {
      "text/plain": [
       "(1015.2358583203843,\n",
       " 1.7812550798256757e-218,\n",
       " 4,\n",
       " array([[ 961.59407646,  259.40592354],\n",
       "        [1737.32721758,  468.67278242],\n",
       "        [ 957.65634478,  258.34365522],\n",
       "        [9522.22275059, 2568.77724941],\n",
       "        [7854.19961059, 2118.80038941]]))"
      ]
     },
     "execution_count": 152,
     "metadata": {},
     "output_type": "execute_result"
    }
   ],
   "source": [
    "stats.chi2_contingency(observed_values)"
   ]
  },
  {
   "cell_type": "code",
   "execution_count": 153,
   "id": "389bba8f",
   "metadata": {},
   "outputs": [
    {
     "data": {
      "text/plain": [
       "2.0    8954\n",
       "4.0    7630\n",
       "1.0    5974\n",
       "5.0    2958\n",
       "3.0     677\n",
       "Name: is_seas_risky, dtype: int64"
      ]
     },
     "execution_count": 153,
     "metadata": {},
     "output_type": "execute_result"
    }
   ],
   "source": [
    "df.is_seas_risky.value_counts()"
   ]
  },
  {
   "cell_type": "code",
   "execution_count": 154,
   "id": "10b427b3",
   "metadata": {},
   "outputs": [
    {
     "data": {
      "text/plain": [
       "514"
      ]
     },
     "execution_count": 154,
     "metadata": {},
     "output_type": "execute_result"
    }
   ],
   "source": [
    "df.is_seas_risky.isnull().sum()"
   ]
  },
  {
   "cell_type": "code",
   "execution_count": 155,
   "id": "517247bd",
   "metadata": {},
   "outputs": [],
   "source": [
    "df.is_seas_risky.fillna(2.0,inplace = True)"
   ]
  },
  {
   "cell_type": "code",
   "execution_count": 156,
   "id": "e951a7ff",
   "metadata": {},
   "outputs": [
    {
     "data": {
      "text/plain": [
       "0"
      ]
     },
     "execution_count": 156,
     "metadata": {},
     "output_type": "execute_result"
    }
   ],
   "source": [
    "df.is_seas_risky.isnull().sum()"
   ]
  },
  {
   "cell_type": "code",
   "execution_count": 157,
   "id": "3f31814b",
   "metadata": {},
   "outputs": [
    {
     "name": "stdout",
     "output_type": "stream",
     "text": [
      "h1n1_vaccine      0     1\n",
      "is_seas_risky            \n",
      "1.0            5468   506\n",
      "2.0            7953  1515\n",
      "3.0             541   136\n",
      "4.0            5295  2335\n",
      "5.0            1776  1182\n"
     ]
    }
   ],
   "source": [
    "df_tabel = pd.crosstab(df['is_seas_risky'],df['h1n1_vaccine'])\n",
    "print(df_tabel)"
   ]
  },
  {
   "cell_type": "code",
   "execution_count": 158,
   "id": "323f13ba",
   "metadata": {},
   "outputs": [
    {
     "name": "stdout",
     "output_type": "stream",
     "text": [
      "Observed values:-\n",
      " [[5468  506]\n",
      " [7953 1515]\n",
      " [ 541  136]\n",
      " [5295 2335]\n",
      " [1776 1182]]\n"
     ]
    }
   ],
   "source": [
    "#observed values\n",
    "observed_values = df_tabel.values\n",
    "print('Observed values:-\\n',observed_values)"
   ]
  },
  {
   "cell_type": "code",
   "execution_count": 159,
   "id": "2ce688bf",
   "metadata": {},
   "outputs": [
    {
     "data": {
      "text/plain": [
       "(1757.3448032431027,\n",
       " 0.0,\n",
       " 4,\n",
       " array([[4704.80181226, 1269.19818774],\n",
       "        [7456.48871082, 2011.51128918],\n",
       "        [ 533.16886958,  143.83113042],\n",
       "        [6008.97854495, 1621.02145505],\n",
       "        [2329.56206238,  628.43793762]]))"
      ]
     },
     "execution_count": 159,
     "metadata": {},
     "output_type": "execute_result"
    }
   ],
   "source": [
    "stats.chi2_contingency(observed_values)"
   ]
  },
  {
   "cell_type": "code",
   "execution_count": 160,
   "id": "9eea3bc1",
   "metadata": {},
   "outputs": [
    {
     "data": {
      "text/plain": [
       "1.0    11870\n",
       "2.0     7633\n",
       "4.0     4852\n",
       "5.0     1721\n",
       "3.0       94\n",
       "Name: sick_from_seas_vacc, dtype: int64"
      ]
     },
     "execution_count": 160,
     "metadata": {},
     "output_type": "execute_result"
    }
   ],
   "source": [
    "df.sick_from_seas_vacc.value_counts()"
   ]
  },
  {
   "cell_type": "code",
   "execution_count": 161,
   "id": "5e712f94",
   "metadata": {},
   "outputs": [
    {
     "data": {
      "text/plain": [
       "537"
      ]
     },
     "execution_count": 161,
     "metadata": {},
     "output_type": "execute_result"
    }
   ],
   "source": [
    "df.sick_from_seas_vacc.isnull().sum()"
   ]
  },
  {
   "cell_type": "code",
   "execution_count": 162,
   "id": "5ef44d35",
   "metadata": {},
   "outputs": [],
   "source": [
    "df.sick_from_seas_vacc.fillna(1.0,inplace= True)"
   ]
  },
  {
   "cell_type": "code",
   "execution_count": 163,
   "id": "903f2664",
   "metadata": {},
   "outputs": [
    {
     "data": {
      "text/plain": [
       "0"
      ]
     },
     "execution_count": 163,
     "metadata": {},
     "output_type": "execute_result"
    }
   ],
   "source": [
    "df.sick_from_seas_vacc.isnull().sum()"
   ]
  },
  {
   "cell_type": "code",
   "execution_count": 164,
   "id": "ba221284",
   "metadata": {},
   "outputs": [
    {
     "name": "stdout",
     "output_type": "stream",
     "text": [
      "h1n1_vaccine            0     1\n",
      "sick_from_seas_vacc            \n",
      "1.0                  9691  2716\n",
      "2.0                  6183  1450\n",
      "3.0                    86     8\n",
      "4.0                  3740  1112\n",
      "5.0                  1333   388\n"
     ]
    }
   ],
   "source": [
    "df_tabel = pd.crosstab(df['sick_from_seas_vacc'],df['h1n1_vaccine'])\n",
    "print(df_tabel)"
   ]
  },
  {
   "cell_type": "code",
   "execution_count": 165,
   "id": "d197c752",
   "metadata": {},
   "outputs": [
    {
     "name": "stdout",
     "output_type": "stream",
     "text": [
      "Observed values:-\n",
      " [[9691 2716]\n",
      " [6183 1450]\n",
      " [  86    8]\n",
      " [3740 1112]\n",
      " [1333  388]]\n"
     ]
    }
   ],
   "source": [
    "#observed values\n",
    "observed_values = df_tabel.values\n",
    "print('Observed values:-\\n',observed_values)"
   ]
  },
  {
   "cell_type": "code",
   "execution_count": 166,
   "id": "78728328",
   "metadata": {},
   "outputs": [
    {
     "data": {
      "text/plain": [
       "(45.127510978784706,\n",
       " 3.7405030013106724e-09,\n",
       " 4,\n",
       " array([[9771.08739282, 2635.91260718],\n",
       "        [6011.34118396, 1621.65881604],\n",
       "        [  74.0293556 ,   19.9706444 ],\n",
       "        [3821.17482308, 1030.82517692],\n",
       "        [1355.36724454,  365.63275546]]))"
      ]
     },
     "execution_count": 166,
     "metadata": {},
     "output_type": "execute_result"
    }
   ],
   "source": [
    "stats.chi2_contingency(observed_values)"
   ]
  },
  {
   "cell_type": "code",
   "execution_count": 167,
   "id": "bf1511dc",
   "metadata": {},
   "outputs": [
    {
     "data": {
      "text/plain": [
       "65+ Years        6843\n",
       "55 - 64 Years    5563\n",
       "45 - 54 Years    5238\n",
       "18 - 34 Years    5215\n",
       "35 - 44 Years    3848\n",
       "Name: age_bracket, dtype: int64"
      ]
     },
     "execution_count": 167,
     "metadata": {},
     "output_type": "execute_result"
    }
   ],
   "source": [
    "df.age_bracket.value_counts()"
   ]
  },
  {
   "cell_type": "code",
   "execution_count": 168,
   "id": "a51266d6",
   "metadata": {},
   "outputs": [
    {
     "data": {
      "text/plain": [
       "0"
      ]
     },
     "execution_count": 168,
     "metadata": {},
     "output_type": "execute_result"
    }
   ],
   "source": [
    "df.age_bracket.isnull().sum()"
   ]
  },
  {
   "cell_type": "code",
   "execution_count": 169,
   "id": "3a9ad6e9",
   "metadata": {},
   "outputs": [
    {
     "name": "stdout",
     "output_type": "stream",
     "text": [
      "h1n1_vaccine      0     1\n",
      "age_bracket              \n",
      "18 - 34 Years  4224   991\n",
      "35 - 44 Years  3087   761\n",
      "45 - 54 Years  4218  1020\n",
      "55 - 64 Years  4212  1351\n",
      "65+ Years      5292  1551\n"
     ]
    }
   ],
   "source": [
    "df_tabel = pd.crosstab(df['age_bracket'],df['h1n1_vaccine'])\n",
    "print(df_tabel)"
   ]
  },
  {
   "cell_type": "code",
   "execution_count": 170,
   "id": "66f06372",
   "metadata": {},
   "outputs": [
    {
     "name": "stdout",
     "output_type": "stream",
     "text": [
      "[[4224  991]\n",
      " [3087  761]\n",
      " [4218 1020]\n",
      " [4212 1351]\n",
      " [5292 1551]]\n"
     ]
    }
   ],
   "source": [
    "observation_values = df_tabel.values\n",
    "print(observation_values)"
   ]
  },
  {
   "cell_type": "code",
   "execution_count": 171,
   "id": "ed95ef5e",
   "metadata": {},
   "outputs": [
    {
     "data": {
      "text/plain": [
       "(69.44576247937547,\n",
       " 2.9716028185463074e-14,\n",
       " 4,\n",
       " array([[4107.05414311, 1107.94585689],\n",
       "        [3030.47830157,  817.52169843],\n",
       "        [4125.16770884, 1112.83229116],\n",
       "        [4381.12026809, 1181.87973191],\n",
       "        [5389.17957839, 1453.82042161]]))"
      ]
     },
     "execution_count": 171,
     "metadata": {},
     "output_type": "execute_result"
    }
   ],
   "source": [
    "stats.chi2_contingency(observation_values)"
   ]
  },
  {
   "cell_type": "code",
   "execution_count": 173,
   "id": "855d23a5",
   "metadata": {},
   "outputs": [
    {
     "data": {
      "text/plain": [
       "College Graduate    10097\n",
       "Some College         7043\n",
       "12 Years             5797\n",
       "< 12 Years           2363\n",
       "Name: qualification, dtype: int64"
      ]
     },
     "execution_count": 173,
     "metadata": {},
     "output_type": "execute_result"
    }
   ],
   "source": [
    "df.qualification.value_counts()"
   ]
  },
  {
   "cell_type": "code",
   "execution_count": 174,
   "id": "a285cc34",
   "metadata": {},
   "outputs": [
    {
     "data": {
      "text/plain": [
       "1407"
      ]
     },
     "execution_count": 174,
     "metadata": {},
     "output_type": "execute_result"
    }
   ],
   "source": [
    "df.qualification.isnull().sum()"
   ]
  },
  {
   "cell_type": "code",
   "execution_count": 175,
   "id": "224c9070",
   "metadata": {},
   "outputs": [],
   "source": [
    "df.qualification.fillna('College Graduate',inplace=True)"
   ]
  },
  {
   "cell_type": "code",
   "execution_count": 176,
   "id": "087763dd",
   "metadata": {},
   "outputs": [
    {
     "data": {
      "text/plain": [
       "0"
      ]
     },
     "execution_count": 176,
     "metadata": {},
     "output_type": "execute_result"
    }
   ],
   "source": [
    "df.qualification.isnull().sum()"
   ]
  },
  {
   "cell_type": "code",
   "execution_count": 177,
   "id": "1037ea1d",
   "metadata": {},
   "outputs": [
    {
     "name": "stdout",
     "output_type": "stream",
     "text": [
      "h1n1_vaccine         0     1\n",
      "qualification               \n",
      "12 Years          4726  1071\n",
      "< 12 Years        1968   395\n",
      "College Graduate  8760  2744\n",
      "Some College      5579  1464\n"
     ]
    }
   ],
   "source": [
    "df_tabel = pd.crosstab(df.qualification,df.h1n1_vaccine)\n",
    "print(df_tabel)"
   ]
  },
  {
   "cell_type": "code",
   "execution_count": 178,
   "id": "7ea6699d",
   "metadata": {},
   "outputs": [
    {
     "name": "stdout",
     "output_type": "stream",
     "text": [
      "[[4726 1071]\n",
      " [1968  395]\n",
      " [8760 2744]\n",
      " [5579 1464]]\n"
     ]
    }
   ],
   "source": [
    "observation_values = df_tabel.values\n",
    "print(observation_values)"
   ]
  },
  {
   "cell_type": "code",
   "execution_count": 180,
   "id": "fd83f248",
   "metadata": {},
   "outputs": [
    {
     "data": {
      "text/plain": [
       "(103.18537711307252,\n",
       " 3.209804092590849e-22,\n",
       " 3,\n",
       " array([[4565.40611076, 1231.59388924],\n",
       "        [1860.97199236,  502.02800764],\n",
       "        [9059.93305126, 2444.06694874],\n",
       "        [5546.68884562, 1496.31115438]]))"
      ]
     },
     "execution_count": 180,
     "metadata": {},
     "output_type": "execute_result"
    }
   ],
   "source": [
    "stats.chi2_contingency(observation_values)"
   ]
  },
  {
   "cell_type": "code",
   "execution_count": 184,
   "id": "44d5b6bc",
   "metadata": {},
   "outputs": [
    {
     "data": {
      "text/plain": [
       "White                21222\n",
       "Black                 2118\n",
       "Hispanic              1755\n",
       "Other or Multiple     1612\n",
       "Name: race, dtype: int64"
      ]
     },
     "execution_count": 184,
     "metadata": {},
     "output_type": "execute_result"
    }
   ],
   "source": [
    "df.race.value_counts()"
   ]
  },
  {
   "cell_type": "code",
   "execution_count": 185,
   "id": "7ceba0ca",
   "metadata": {},
   "outputs": [
    {
     "data": {
      "text/plain": [
       "0"
      ]
     },
     "execution_count": 185,
     "metadata": {},
     "output_type": "execute_result"
    }
   ],
   "source": [
    "df.race.isnull().sum()"
   ]
  },
  {
   "cell_type": "code",
   "execution_count": 187,
   "id": "9d8e1390",
   "metadata": {},
   "outputs": [
    {
     "name": "stdout",
     "output_type": "stream",
     "text": [
      "h1n1_vaccine           0     1\n",
      "race                          \n",
      "Black               1803   315\n",
      "Hispanic            1390   365\n",
      "Other or Multiple   1263   349\n",
      "White              16577  4645\n"
     ]
    }
   ],
   "source": [
    "df_tabel = pd.crosstab(df.race,df.h1n1_vaccine)\n",
    "print(df_tabel)"
   ]
  },
  {
   "cell_type": "code",
   "execution_count": 188,
   "id": "af849fa1",
   "metadata": {},
   "outputs": [
    {
     "data": {
      "text/plain": [
       "array([[ 1803,   315],\n",
       "       [ 1390,   365],\n",
       "       [ 1263,   349],\n",
       "       [16577,  4645]], dtype=int64)"
      ]
     },
     "execution_count": 188,
     "metadata": {},
     "output_type": "execute_result"
    }
   ],
   "source": [
    "observed_values = df_tabel.values\n",
    "observed_values"
   ]
  },
  {
   "cell_type": "code",
   "execution_count": 191,
   "id": "cd165bd8",
   "metadata": {},
   "outputs": [
    {
     "data": {
      "text/plain": [
       "(57.01119582422927,\n",
       " 2.5557770361705444e-12,\n",
       " 3,\n",
       " array([[ 1668.02314   ,   449.97686   ],\n",
       "        [ 1382.14381997,   372.85618003],\n",
       "        [ 1269.5246939 ,   342.4753061 ],\n",
       "        [16713.30834613,  4508.69165387]]))"
      ]
     },
     "execution_count": 191,
     "metadata": {},
     "output_type": "execute_result"
    }
   ],
   "source": [
    "stats.chi2_contingency(observed_values)"
   ]
  },
  {
   "cell_type": "code",
   "execution_count": 192,
   "id": "44650fa3",
   "metadata": {},
   "outputs": [
    {
     "data": {
      "text/plain": [
       "Female    15858\n",
       "Male      10849\n",
       "Name: sex, dtype: int64"
      ]
     },
     "execution_count": 192,
     "metadata": {},
     "output_type": "execute_result"
    }
   ],
   "source": [
    "df.sex.value_counts()"
   ]
  },
  {
   "cell_type": "code",
   "execution_count": 194,
   "id": "bb4665d8",
   "metadata": {},
   "outputs": [
    {
     "data": {
      "text/plain": [
       "0"
      ]
     },
     "execution_count": 194,
     "metadata": {},
     "output_type": "execute_result"
    }
   ],
   "source": [
    "df.sex.isnull().sum()"
   ]
  },
  {
   "cell_type": "code",
   "execution_count": 195,
   "id": "b434fa46",
   "metadata": {},
   "outputs": [
    {
     "name": "stdout",
     "output_type": "stream",
     "text": [
      "h1n1_vaccine      0     1\n",
      "sex                      \n",
      "Female        12378  3480\n",
      "Male           8655  2194\n"
     ]
    }
   ],
   "source": [
    "df_tabel = pd.crosstab(df.sex,df.h1n1_vaccine)\n",
    "print(df_tabel)"
   ]
  },
  {
   "cell_type": "code",
   "execution_count": 196,
   "id": "fd67438e",
   "metadata": {},
   "outputs": [
    {
     "name": "stdout",
     "output_type": "stream",
     "text": [
      "[[12378  3480]\n",
      " [ 8655  2194]]\n"
     ]
    }
   ],
   "source": [
    "observed_values = df_tabel.values\n",
    "print(observed_values)"
   ]
  },
  {
   "cell_type": "code",
   "execution_count": 197,
   "id": "471ab56b",
   "metadata": {},
   "outputs": [
    {
     "data": {
      "text/plain": [
       "(11.309981152455997,\n",
       " 0.0007709155489949327,\n",
       " 1,\n",
       " array([[12488.90979893,  3369.09020107],\n",
       "        [ 8544.09020107,  2304.90979893]]))"
      ]
     },
     "execution_count": 197,
     "metadata": {},
     "output_type": "execute_result"
    }
   ],
   "source": [
    "stats.chi2_contingency(observed_values)"
   ]
  },
  {
   "cell_type": "code",
   "execution_count": 200,
   "id": "3726b89f",
   "metadata": {},
   "outputs": [
    {
     "data": {
      "text/plain": [
       "<= $75,000, Above Poverty    12777\n",
       "> $75,000                     6810\n",
       "Below Poverty                 2697\n",
       "Name: income_level, dtype: int64"
      ]
     },
     "execution_count": 200,
     "metadata": {},
     "output_type": "execute_result"
    }
   ],
   "source": [
    "df.income_level.value_counts()"
   ]
  },
  {
   "cell_type": "code",
   "execution_count": 201,
   "id": "5cf37625",
   "metadata": {},
   "outputs": [
    {
     "data": {
      "text/plain": [
       "4423"
      ]
     },
     "execution_count": 201,
     "metadata": {},
     "output_type": "execute_result"
    }
   ],
   "source": [
    "df.income_level.isnull().sum()"
   ]
  },
  {
   "cell_type": "code",
   "execution_count": 202,
   "id": "4faf1c5b",
   "metadata": {},
   "outputs": [],
   "source": [
    "df.income_level.fillna('<= $75,000, Above Poverty',inplace=True)"
   ]
  },
  {
   "cell_type": "code",
   "execution_count": 203,
   "id": "f152ab15",
   "metadata": {},
   "outputs": [
    {
     "data": {
      "text/plain": [
       "0"
      ]
     },
     "execution_count": 203,
     "metadata": {},
     "output_type": "execute_result"
    }
   ],
   "source": [
    "df.income_level.isnull().sum()"
   ]
  },
  {
   "cell_type": "code",
   "execution_count": 204,
   "id": "17c01657",
   "metadata": {},
   "outputs": [
    {
     "name": "stdout",
     "output_type": "stream",
     "text": [
      "h1n1_vaccine                   0     1\n",
      "income_level                          \n",
      "<= $75,000, Above Poverty  13765  3435\n",
      "> $75,000                   5087  1723\n",
      "Below Poverty               2181   516\n"
     ]
    }
   ],
   "source": [
    "df_tabel = pd.crosstab(df.income_level,df.h1n1_vaccine)\n",
    "print(df_tabel)"
   ]
  },
  {
   "cell_type": "code",
   "execution_count": 205,
   "id": "ff616489",
   "metadata": {},
   "outputs": [
    {
     "name": "stdout",
     "output_type": "stream",
     "text": [
      "[[13765  3435]\n",
      " [ 5087  1723]\n",
      " [ 2181   516]]\n"
     ]
    }
   ],
   "source": [
    "observed_values = df_tabel.values\n",
    "print(observed_values)"
   ]
  },
  {
   "cell_type": "code",
   "execution_count": 207,
   "id": "1b228e6c",
   "metadata": {},
   "outputs": [
    {
     "data": {
      "text/plain": [
       "(90.84009217768136,\n",
       " 1.880722047715149e-20,\n",
       " 2,\n",
       " array([[13545.79698206,  3654.20301794],\n",
       "        [ 5363.19054929,  1446.80945071],\n",
       "        [ 2124.01246864,   572.98753136]]))"
      ]
     },
     "execution_count": 207,
     "metadata": {},
     "output_type": "execute_result"
    }
   ],
   "source": [
    "stats.chi2_contingency(observed_values)"
   ]
  },
  {
   "cell_type": "code",
   "execution_count": 208,
   "id": "e5871ac6",
   "metadata": {},
   "outputs": [],
   "source": [
    "df.fillna(method='ffill',inplace=True)"
   ]
  },
  {
   "cell_type": "code",
   "execution_count": 211,
   "id": "066527dc",
   "metadata": {
    "collapsed": true
   },
   "outputs": [
    {
     "data": {
      "text/plain": [
       "h1n1_worry                   0\n",
       "h1n1_awareness               0\n",
       "antiviral_medication         0\n",
       "contact_avoidance            0\n",
       "bought_face_mask             0\n",
       "wash_hands_frequently        0\n",
       "avoid_large_gatherings       0\n",
       "reduced_outside_home_cont    0\n",
       "avoid_touch_face             0\n",
       "dr_recc_h1n1_vacc            0\n",
       "dr_recc_seasonal_vacc        0\n",
       "chronic_medic_condition      0\n",
       "cont_child_undr_6_mnths      0\n",
       "is_health_worker             0\n",
       "has_health_insur             0\n",
       "is_h1n1_vacc_effective       0\n",
       "is_h1n1_risky                0\n",
       "sick_from_h1n1_vacc          0\n",
       "is_seas_vacc_effective       0\n",
       "is_seas_risky                0\n",
       "sick_from_seas_vacc          0\n",
       "age_bracket                  0\n",
       "qualification                0\n",
       "race                         0\n",
       "sex                          0\n",
       "income_level                 0\n",
       "marital_status               0\n",
       "housing_status               0\n",
       "employment                   0\n",
       "census_msa                   0\n",
       "no_of_adults                 0\n",
       "no_of_children               0\n",
       "h1n1_vaccine                 0\n",
       "dtype: int64"
      ]
     },
     "execution_count": 211,
     "metadata": {},
     "output_type": "execute_result"
    }
   ],
   "source": [
    "df.isnull().sum()"
   ]
  },
  {
   "cell_type": "code",
   "execution_count": 212,
   "id": "7f4179c0",
   "metadata": {},
   "outputs": [
    {
     "data": {
      "text/plain": [
       "Married        14312\n",
       "Not Married    12395\n",
       "Name: marital_status, dtype: int64"
      ]
     },
     "execution_count": 212,
     "metadata": {},
     "output_type": "execute_result"
    }
   ],
   "source": [
    "df.marital_status.value_counts()"
   ]
  },
  {
   "cell_type": "code",
   "execution_count": 214,
   "id": "342ef42a",
   "metadata": {},
   "outputs": [
    {
     "name": "stdout",
     "output_type": "stream",
     "text": [
      "h1n1_vaccine        0     1\n",
      "marital_status             \n",
      "Married         11011  3301\n",
      "Not Married     10022  2373\n"
     ]
    }
   ],
   "source": [
    "df_tabel = pd.crosstab(df.marital_status,df.h1n1_vaccine)\n",
    "print(df_tabel)"
   ]
  },
  {
   "cell_type": "code",
   "execution_count": 215,
   "id": "ba12ffaa",
   "metadata": {},
   "outputs": [
    {
     "name": "stdout",
     "output_type": "stream",
     "text": [
      "[[11011  3301]\n",
      " [10022  2373]]\n"
     ]
    }
   ],
   "source": [
    "observed_values = df_tabel.values\n",
    "print(observed_values)"
   ]
  },
  {
   "cell_type": "code",
   "execution_count": 226,
   "id": "e71577a5",
   "metadata": {},
   "outputs": [
    {
     "data": {
      "text/plain": [
       "(60.7613407816723,\n",
       " 6.443086899351007e-15,\n",
       " 1,\n",
       " array([[11271.36316322,  3040.63683678],\n",
       "        [ 9761.63683678,  2633.36316322]]))"
      ]
     },
     "execution_count": 226,
     "metadata": {},
     "output_type": "execute_result"
    }
   ],
   "source": [
    "stats.chi2_contingency(observed_values,4)"
   ]
  },
  {
   "cell_type": "code",
   "execution_count": 227,
   "id": "137f45be",
   "metadata": {},
   "outputs": [
    {
     "data": {
      "text/plain": [
       "Own     20284\n",
       "Rent     6423\n",
       "Name: housing_status, dtype: int64"
      ]
     },
     "execution_count": 227,
     "metadata": {},
     "output_type": "execute_result"
    }
   ],
   "source": [
    "df.housing_status.value_counts()"
   ]
  },
  {
   "cell_type": "code",
   "execution_count": 218,
   "id": "c543af90",
   "metadata": {},
   "outputs": [
    {
     "ename": "NameError",
     "evalue": "name 'chi2_contingency' is not defined",
     "output_type": "error",
     "traceback": [
      "\u001b[1;31m---------------------------------------------------------------------------\u001b[0m",
      "\u001b[1;31mNameError\u001b[0m                                 Traceback (most recent call last)",
      "Input \u001b[1;32mIn [218]\u001b[0m, in \u001b[0;36m<cell line: 2>\u001b[1;34m()\u001b[0m\n\u001b[0;32m      1\u001b[0m \u001b[38;5;66;03m# Chi-square test of independence. \u001b[39;00m\n\u001b[1;32m----> 2\u001b[0m c, p, dof, expected \u001b[38;5;241m=\u001b[39m \u001b[43mchi2_contingency\u001b[49m(contigency) \n\u001b[0;32m      3\u001b[0m \u001b[38;5;66;03m# Print the p-value\u001b[39;00m\n\u001b[0;32m      4\u001b[0m \u001b[38;5;28mprint\u001b[39m(p)\n",
      "\u001b[1;31mNameError\u001b[0m: name 'chi2_contingency' is not defined"
     ]
    }
   ],
   "source": [
    "# Chi-square test of independence. \n",
    "c, p, dof, expected = chi2_contingency(contigency) \n",
    "# Print the p-value\n",
    "print(p)"
   ]
  },
  {
   "cell_type": "code",
   "execution_count": 229,
   "id": "aa077ff6",
   "metadata": {},
   "outputs": [
    {
     "name": "stdout",
     "output_type": "stream",
     "text": [
      "h1n1_vaccine        0     1\n",
      "housing_status             \n",
      "Own             15836  4448\n",
      "Rent             5197  1226\n"
     ]
    }
   ],
   "source": [
    "df_tabel = pd.crosstab(df.housing_status,df.h1n1_vaccine)\n",
    "print(df_tabel)"
   ]
  },
  {
   "cell_type": "code",
   "execution_count": 230,
   "id": "4e7bfadf",
   "metadata": {},
   "outputs": [
    {
     "name": "stdout",
     "output_type": "stream",
     "text": [
      "[[15836  4448]\n",
      " [ 5197  1226]]\n"
     ]
    }
   ],
   "source": [
    "observed_values = df_tabel.values\n",
    "print(observed_values)"
   ]
  },
  {
   "cell_type": "code",
   "execution_count": 231,
   "id": "98aded1a",
   "metadata": {},
   "outputs": [
    {
     "data": {
      "text/plain": [
       "(23.362373569970778,\n",
       " 1.3417759909486258e-06,\n",
       " 1,\n",
       " array([[15974.5898828,  4309.4101172],\n",
       "        [ 5058.4101172,  1364.5898828]]))"
      ]
     },
     "execution_count": 231,
     "metadata": {},
     "output_type": "execute_result"
    }
   ],
   "source": [
    "stats.chi2_contingency(observed_values)"
   ]
  },
  {
   "cell_type": "code",
   "execution_count": 232,
   "id": "356aaa31",
   "metadata": {},
   "outputs": [
    {
     "data": {
      "text/plain": [
       "Employed              14360\n",
       "Not in Labor Force    10808\n",
       "Unemployed             1539\n",
       "Name: employment, dtype: int64"
      ]
     },
     "execution_count": 232,
     "metadata": {},
     "output_type": "execute_result"
    }
   ],
   "source": [
    "df.employment.value_counts()"
   ]
  },
  {
   "cell_type": "code",
   "execution_count": 233,
   "id": "1b1b7546",
   "metadata": {},
   "outputs": [
    {
     "name": "stdout",
     "output_type": "stream",
     "text": [
      "h1n1_vaccine            0     1\n",
      "employment                     \n",
      "Employed            11298  3062\n",
      "Not in Labor Force   8450  2358\n",
      "Unemployed           1285   254\n"
     ]
    }
   ],
   "source": [
    "df_tabel = pd.crosstab(df.employment,df.h1n1_vaccine)\n",
    "print(df_tabel)"
   ]
  },
  {
   "cell_type": "code",
   "execution_count": 234,
   "id": "91617043",
   "metadata": {},
   "outputs": [
    {
     "name": "stdout",
     "output_type": "stream",
     "text": [
      "[[11298  3062]\n",
      " [ 8450  2358]\n",
      " [ 1285   254]]\n"
     ]
    }
   ],
   "source": [
    "observed_values = df_tabel.values\n",
    "print(observed_values)"
   ]
  },
  {
   "cell_type": "code",
   "execution_count": 235,
   "id": "a9d0fe9b",
   "metadata": {},
   "outputs": [
    {
     "data": {
      "text/plain": [
       "(22.83982538393645,\n",
       " 1.0974757532385518e-05,\n",
       " 2,\n",
       " array([[11309.16538735,  3050.83461265],\n",
       "        [ 8511.80080129,  2296.19919871],\n",
       "        [ 1212.03381136,   326.96618864]]))"
      ]
     },
     "execution_count": 235,
     "metadata": {},
     "output_type": "execute_result"
    }
   ],
   "source": [
    "stats.chi2_contingency(observed_values)"
   ]
  },
  {
   "cell_type": "code",
   "execution_count": 236,
   "id": "ff8e039c",
   "metadata": {},
   "outputs": [
    {
     "data": {
      "text/plain": [
       "MSA, Not Principle  City    11645\n",
       "MSA, Principle City          7864\n",
       "Non-MSA                      7198\n",
       "Name: census_msa, dtype: int64"
      ]
     },
     "execution_count": 236,
     "metadata": {},
     "output_type": "execute_result"
    }
   ],
   "source": [
    "df.census_msa.value_counts()"
   ]
  },
  {
   "cell_type": "code",
   "execution_count": 237,
   "id": "d7dc052d",
   "metadata": {},
   "outputs": [
    {
     "name": "stdout",
     "output_type": "stream",
     "text": [
      "h1n1_vaccine                 0     1\n",
      "census_msa                          \n",
      "MSA, Not Principle  City  9178  2467\n",
      "MSA, Principle City       6183  1681\n",
      "Non-MSA                   5672  1526\n"
     ]
    }
   ],
   "source": [
    "df_tabel = pd.crosstab(df.census_msa,df.h1n1_vaccine)\n",
    "print(df_tabel)"
   ]
  },
  {
   "cell_type": "code",
   "execution_count": 238,
   "id": "367563c7",
   "metadata": {},
   "outputs": [
    {
     "name": "stdout",
     "output_type": "stream",
     "text": [
      "[[9178 2467]\n",
      " [6183 1681]\n",
      " [5672 1526]]\n"
     ]
    }
   ],
   "source": [
    "observed_values = df_tabel.values\n",
    "print(observed_values)"
   ]
  },
  {
   "cell_type": "code",
   "execution_count": 239,
   "id": "1239f027",
   "metadata": {},
   "outputs": [
    {
     "data": {
      "text/plain": [
       "(0.11411029118541836,\n",
       " 0.9445419806029446,\n",
       " 2,\n",
       " array([[9170.97708466, 2474.02291534],\n",
       "        [6193.26438761, 1670.73561239],\n",
       "        [5668.75852773, 1529.24147227]]))"
      ]
     },
     "execution_count": 239,
     "metadata": {},
     "output_type": "execute_result"
    }
   ],
   "source": [
    "stats.chi2_contingency(observed_values)"
   ]
  },
  {
   "cell_type": "code",
   "execution_count": 240,
   "id": "a5dc0662",
   "metadata": {},
   "outputs": [
    {
     "data": {
      "text/plain": [
       "1.0    14621\n",
       "0.0     8124\n",
       "2.0     2824\n",
       "3.0     1138\n",
       "Name: no_of_adults, dtype: int64"
      ]
     },
     "execution_count": 240,
     "metadata": {},
     "output_type": "execute_result"
    }
   ],
   "source": [
    "df.no_of_adults.value_counts()"
   ]
  },
  {
   "cell_type": "code",
   "execution_count": 241,
   "id": "8c3be313",
   "metadata": {},
   "outputs": [
    {
     "name": "stdout",
     "output_type": "stream",
     "text": [
      "h1n1_vaccine      0     1\n",
      "no_of_adults             \n",
      "0.0            6533  1591\n",
      "1.0           11328  3293\n",
      "2.0            2257   567\n",
      "3.0             915   223\n"
     ]
    }
   ],
   "source": [
    "df_tabel = pd.crosstab(df.no_of_adults,df.h1n1_vaccine)\n",
    "print(df_tabel)"
   ]
  },
  {
   "cell_type": "code",
   "execution_count": 242,
   "id": "c4419530",
   "metadata": {},
   "outputs": [
    {
     "name": "stdout",
     "output_type": "stream",
     "text": [
      "[[ 6533  1591]\n",
      " [11328  3293]\n",
      " [ 2257   567]\n",
      " [  915   223]]\n"
     ]
    }
   ],
   "source": [
    "observed_values = df_tabel.values\n",
    "print(observed_values)"
   ]
  },
  {
   "cell_type": "code",
   "execution_count": 243,
   "id": "c41c81b3",
   "metadata": {},
   "outputs": [
    {
     "data": {
      "text/plain": [
       "(31.804597701690277,\n",
       " 5.753961096124437e-07,\n",
       " 3,\n",
       " array([[ 6398.02643502,  1725.97356498],\n",
       "        [11514.71498109,  3106.28501891],\n",
       "        [ 2224.03085333,   599.96914667],\n",
       "        [  896.22773056,   241.77226944]]))"
      ]
     },
     "execution_count": 243,
     "metadata": {},
     "output_type": "execute_result"
    }
   ],
   "source": [
    "stats.chi2_contingency(observed_values)"
   ]
  },
  {
   "cell_type": "code",
   "execution_count": null,
   "id": "52042f23",
   "metadata": {},
   "outputs": [],
   "source": [
    "             25299 non-null  object \n",
    " 27               24665 non-null  object \n",
    " 28                   25244 non-null  object \n",
    " 29                   26707 non-null  object \n",
    " 30                 26458 non-null  float64\n",
    " 31               26458 non-null  float64\n",
    " 32  h1n1_vaccine"
   ]
  },
  {
   "cell_type": "code",
   "execution_count": 244,
   "id": "e01c6448",
   "metadata": {},
   "outputs": [
    {
     "data": {
      "text/plain": [
       "0.0    18841\n",
       "1.0     3208\n",
       "2.0     2896\n",
       "3.0     1762\n",
       "Name: no_of_children, dtype: int64"
      ]
     },
     "execution_count": 244,
     "metadata": {},
     "output_type": "execute_result"
    }
   ],
   "source": [
    "df.no_of_children.value_counts()"
   ]
  },
  {
   "cell_type": "code",
   "execution_count": 245,
   "id": "d074ba61",
   "metadata": {},
   "outputs": [
    {
     "name": "stdout",
     "output_type": "stream",
     "text": [
      "h1n1_vaccine        0     1\n",
      "no_of_children             \n",
      "0.0             14833  4008\n",
      "1.0              2528   680\n",
      "2.0              2260   636\n",
      "3.0              1412   350\n"
     ]
    }
   ],
   "source": [
    "df_tabel = pd.crosstab(df.no_of_children,df.h1n1_vaccine)\n",
    "print(df_tabel)"
   ]
  },
  {
   "cell_type": "code",
   "execution_count": 246,
   "id": "1f9f1eb2",
   "metadata": {},
   "outputs": [
    {
     "name": "stdout",
     "output_type": "stream",
     "text": [
      "[[14833  4008]\n",
      " [ 2528   680]\n",
      " [ 2260   636]\n",
      " [ 1412   350]]\n"
     ]
    }
   ],
   "source": [
    "observed_values = df_tabel.values\n",
    "print(observed_values)"
   ]
  },
  {
   "cell_type": "code",
   "execution_count": 248,
   "id": "3a63811f",
   "metadata": {},
   "outputs": [
    {
     "data": {
      "text/plain": [
       "(2.910245595178825,\n",
       " 0.40567155730623383,\n",
       " 3,\n",
       " array([[14838.16051971,  4002.83948029],\n",
       "        [ 2526.44864642,   681.55135358],\n",
       "        [ 2280.73418954,   615.26581046],\n",
       "        [ 1387.65664433,   374.34335567]]))"
      ]
     },
     "execution_count": 248,
     "metadata": {},
     "output_type": "execute_result"
    }
   ],
   "source": [
    "stats.chi2_contingency(observed_values)"
   ]
  },
  {
   "cell_type": "code",
   "execution_count": 249,
   "id": "25f3df0d",
   "metadata": {},
   "outputs": [
    {
     "data": {
      "text/plain": [
       "Female    15858\n",
       "Male      10849\n",
       "Name: sex, dtype: int64"
      ]
     },
     "execution_count": 249,
     "metadata": {},
     "output_type": "execute_result"
    }
   ],
   "source": [
    "df.sex.value_counts()"
   ]
  },
  {
   "cell_type": "code",
   "execution_count": 251,
   "id": "5097c8f1",
   "metadata": {},
   "outputs": [],
   "source": [
    "df1 = pd.get_dummies(df['sex'],drop_first=True)"
   ]
  },
  {
   "cell_type": "code",
   "execution_count": 253,
   "id": "79475701",
   "metadata": {},
   "outputs": [],
   "source": [
    "df = pd.concat([df1,df],axis=1)"
   ]
  },
  {
   "cell_type": "code",
   "execution_count": 255,
   "id": "d7014f17",
   "metadata": {},
   "outputs": [],
   "source": [
    "df.drop('sex',axis=1,inplace=True)"
   ]
  },
  {
   "cell_type": "code",
   "execution_count": 259,
   "id": "90dd1853",
   "metadata": {},
   "outputs": [
    {
     "data": {
      "text/plain": [
       "White                21222\n",
       "Black                 2118\n",
       "Hispanic              1755\n",
       "Other or Multiple     1612\n",
       "Name: race, dtype: int64"
      ]
     },
     "execution_count": 259,
     "metadata": {},
     "output_type": "execute_result"
    }
   ],
   "source": [
    "df.race.value_counts()"
   ]
  },
  {
   "cell_type": "code",
   "execution_count": 261,
   "id": "dbe34ff4",
   "metadata": {},
   "outputs": [],
   "source": [
    "df1 = pd.get_dummies(df['race'],drop_first=True)"
   ]
  },
  {
   "cell_type": "code",
   "execution_count": 263,
   "id": "04b1694d",
   "metadata": {},
   "outputs": [],
   "source": [
    "df = pd.concat([df1,df],axis=1)"
   ]
  },
  {
   "cell_type": "code",
   "execution_count": 264,
   "id": "ab005a78",
   "metadata": {},
   "outputs": [],
   "source": [
    "df.drop('race',axis=1,inplace=True)"
   ]
  },
  {
   "cell_type": "code",
   "execution_count": 266,
   "id": "e5d98549",
   "metadata": {},
   "outputs": [
    {
     "data": {
      "text/plain": [
       "Married        14312\n",
       "Not Married    12395\n",
       "Name: marital_status, dtype: int64"
      ]
     },
     "execution_count": 266,
     "metadata": {},
     "output_type": "execute_result"
    }
   ],
   "source": [
    "df.marital_status.value_counts()"
   ]
  },
  {
   "cell_type": "code",
   "execution_count": 268,
   "id": "e75498fd",
   "metadata": {},
   "outputs": [],
   "source": [
    "df1 = pd.get_dummies(df['marital_status'],drop_first=True)"
   ]
  },
  {
   "cell_type": "code",
   "execution_count": 270,
   "id": "f6a3a82a",
   "metadata": {},
   "outputs": [],
   "source": [
    "df = pd.concat([df1,df],axis=1)"
   ]
  },
  {
   "cell_type": "code",
   "execution_count": 272,
   "id": "22fe790a",
   "metadata": {},
   "outputs": [],
   "source": [
    "df.drop('marital_status',axis=1,inplace=True)"
   ]
  },
  {
   "cell_type": "code",
   "execution_count": 274,
   "id": "17b1f16f",
   "metadata": {},
   "outputs": [
    {
     "data": {
      "text/plain": [
       "Own     20284\n",
       "Rent     6423\n",
       "Name: housing_status, dtype: int64"
      ]
     },
     "execution_count": 274,
     "metadata": {},
     "output_type": "execute_result"
    }
   ],
   "source": [
    "df.housing_status.value_counts()"
   ]
  },
  {
   "cell_type": "code",
   "execution_count": 276,
   "id": "5a72405d",
   "metadata": {},
   "outputs": [],
   "source": [
    "df1 = pd.get_dummies(df['housing_status'],drop_first=True)"
   ]
  },
  {
   "cell_type": "code",
   "execution_count": 278,
   "id": "8c032d1b",
   "metadata": {},
   "outputs": [],
   "source": [
    "df = pd.concat([df1,df],axis=1)"
   ]
  },
  {
   "cell_type": "code",
   "execution_count": 279,
   "id": "4ef17904",
   "metadata": {},
   "outputs": [],
   "source": [
    "df.drop('housing_status',axis=1,inplace=True)"
   ]
  },
  {
   "cell_type": "code",
   "execution_count": 281,
   "id": "361efc60",
   "metadata": {},
   "outputs": [
    {
     "data": {
      "text/plain": [
       "65+ Years        6843\n",
       "55 - 64 Years    5563\n",
       "45 - 54 Years    5238\n",
       "18 - 34 Years    5215\n",
       "35 - 44 Years    3848\n",
       "Name: age_bracket, dtype: int64"
      ]
     },
     "execution_count": 281,
     "metadata": {},
     "output_type": "execute_result"
    }
   ],
   "source": [
    "df.age_bracket.value_counts()"
   ]
  },
  {
   "cell_type": "code",
   "execution_count": 283,
   "id": "9104e191",
   "metadata": {},
   "outputs": [],
   "source": [
    "df1 = pd.get_dummies(df['age_bracket'],drop_first=True)"
   ]
  },
  {
   "cell_type": "code",
   "execution_count": 285,
   "id": "fe05061b",
   "metadata": {},
   "outputs": [],
   "source": [
    "df = pd.concat([df1,df],axis=1)"
   ]
  },
  {
   "cell_type": "code",
   "execution_count": 286,
   "id": "6f934e5f",
   "metadata": {},
   "outputs": [],
   "source": [
    "df.drop('age_bracket',axis=1,inplace=True)"
   ]
  },
  {
   "cell_type": "code",
   "execution_count": 288,
   "id": "2fa03ab8",
   "metadata": {},
   "outputs": [
    {
     "data": {
      "text/plain": [
       "College Graduate    11504\n",
       "Some College         7043\n",
       "12 Years             5797\n",
       "< 12 Years           2363\n",
       "Name: qualification, dtype: int64"
      ]
     },
     "execution_count": 288,
     "metadata": {},
     "output_type": "execute_result"
    }
   ],
   "source": [
    "df.qualification.value_counts()"
   ]
  },
  {
   "cell_type": "code",
   "execution_count": 290,
   "id": "94fa5ff0",
   "metadata": {},
   "outputs": [],
   "source": [
    "df1 = pd.get_dummies(df['qualification'],drop_first=True)"
   ]
  },
  {
   "cell_type": "code",
   "execution_count": 292,
   "id": "1b243af2",
   "metadata": {},
   "outputs": [],
   "source": [
    "df = pd.concat([df1,df],axis=1)"
   ]
  },
  {
   "cell_type": "code",
   "execution_count": 293,
   "id": "4da935a3",
   "metadata": {},
   "outputs": [],
   "source": [
    "df.drop('qualification',axis=1,inplace=True)"
   ]
  },
  {
   "cell_type": "code",
   "execution_count": 295,
   "id": "47467aa9",
   "metadata": {},
   "outputs": [
    {
     "data": {
      "text/plain": [
       "<= $75,000, Above Poverty    17200\n",
       "> $75,000                     6810\n",
       "Below Poverty                 2697\n",
       "Name: income_level, dtype: int64"
      ]
     },
     "execution_count": 295,
     "metadata": {},
     "output_type": "execute_result"
    }
   ],
   "source": [
    "df.income_level.value_counts()"
   ]
  },
  {
   "cell_type": "code",
   "execution_count": 297,
   "id": "7de52be7",
   "metadata": {},
   "outputs": [],
   "source": [
    "df1 = pd.get_dummies(df['income_level'],drop_first=True)"
   ]
  },
  {
   "cell_type": "code",
   "execution_count": 299,
   "id": "8064ebb4",
   "metadata": {},
   "outputs": [],
   "source": [
    "df = pd.concat([df1,df],axis=1)"
   ]
  },
  {
   "cell_type": "code",
   "execution_count": 300,
   "id": "2c08b267",
   "metadata": {},
   "outputs": [],
   "source": [
    "df.drop('income_level',axis=1,inplace=True)"
   ]
  },
  {
   "cell_type": "code",
   "execution_count": 302,
   "id": "0e14bd64",
   "metadata": {},
   "outputs": [
    {
     "data": {
      "text/plain": [
       "Employed              14360\n",
       "Not in Labor Force    10808\n",
       "Unemployed             1539\n",
       "Name: employment, dtype: int64"
      ]
     },
     "execution_count": 302,
     "metadata": {},
     "output_type": "execute_result"
    }
   ],
   "source": [
    "df.employment.value_counts()"
   ]
  },
  {
   "cell_type": "code",
   "execution_count": 304,
   "id": "9a00f472",
   "metadata": {},
   "outputs": [],
   "source": [
    "df1 = pd.get_dummies(df['employment'],drop_first=True)"
   ]
  },
  {
   "cell_type": "code",
   "execution_count": 306,
   "id": "beb78df7",
   "metadata": {},
   "outputs": [],
   "source": [
    "df = pd.concat([df1,df],axis=1)"
   ]
  },
  {
   "cell_type": "code",
   "execution_count": 307,
   "id": "06cbc248",
   "metadata": {},
   "outputs": [],
   "source": [
    "df.drop('employment',axis=1,inplace=True)"
   ]
  },
  {
   "cell_type": "code",
   "execution_count": 309,
   "id": "84abf381",
   "metadata": {},
   "outputs": [],
   "source": [
    "df.drop(columns=['census_msa','no_of_children'],axis=1,inplace=True)"
   ]
  },
  {
   "cell_type": "code",
   "execution_count": 311,
   "id": "b0947dc0",
   "metadata": {
    "scrolled": true
   },
   "outputs": [
    {
     "data": {
      "text/plain": [
       "(26707, 40)"
      ]
     },
     "execution_count": 311,
     "metadata": {},
     "output_type": "execute_result"
    }
   ],
   "source": [
    "df.shape"
   ]
  },
  {
   "cell_type": "code",
   "execution_count": null,
   "id": "3e44dc2f",
   "metadata": {},
   "outputs": [],
   "source": []
  }
 ],
 "metadata": {
  "kernelspec": {
   "display_name": "Python 3 (ipykernel)",
   "language": "python",
   "name": "python3"
  },
  "language_info": {
   "codemirror_mode": {
    "name": "ipython",
    "version": 3
   },
   "file_extension": ".py",
   "mimetype": "text/x-python",
   "name": "python",
   "nbconvert_exporter": "python",
   "pygments_lexer": "ipython3",
   "version": "3.9.13"
  }
 },
 "nbformat": 4,
 "nbformat_minor": 5
}
