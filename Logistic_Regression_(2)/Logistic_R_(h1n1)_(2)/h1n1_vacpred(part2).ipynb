{
 "cells": [
  {
   "cell_type": "code",
   "execution_count": 4,
   "id": "b69d6c82",
   "metadata": {},
   "outputs": [],
   "source": [
    "import pandas as pd \n",
    "import pandas as pd \n",
    "import numpy as np \n",
    "import matplotlib.pyplot as plt\n",
    "import seaborn as sns\n",
    "import statsmodels.api as sm\n",
    "from statsmodels.formula.api import ols\n",
    "from scipy.stats import chi2_contingency\n",
    "from sklearn.preprocessing import LabelEncoder \n",
    "from statsmodels.stats.outliers_influence import variance_inflation_factor\n",
    "from sklearn.linear_model import LogisticRegression\n",
    "from sklearn import metrics\n",
    "from sklearn.metrics import classification_report, confusion_matrix\n",
    "from sklearn.metrics import classification_report\n",
    "from sklearn.metrics import roc_curve, auc, roc_auc_score\n",
    "from sklearn.utils import resample"
   ]
  },
  {
   "cell_type": "code",
   "execution_count": 5,
   "id": "1cdbe3bc",
   "metadata": {},
   "outputs": [
    {
     "name": "stdout",
     "output_type": "stream",
     "text": [
      "<class 'pandas.core.frame.DataFrame'>\n",
      "RangeIndex: 19642 entries, 0 to 19641\n",
      "Data columns (total 31 columns):\n",
      " #   Column                     Non-Null Count  Dtype  \n",
      "---  ------                     --------------  -----  \n",
      " 0   Unnamed: 0                 19642 non-null  int64  \n",
      " 1   h1n1_worry                 19642 non-null  float64\n",
      " 2   h1n1_awareness             19642 non-null  float64\n",
      " 3   antiviral_medication       19642 non-null  float64\n",
      " 4   contact_avoidance          19642 non-null  float64\n",
      " 5   bought_face_mask           19642 non-null  float64\n",
      " 6   wash_hands_frequently      19642 non-null  float64\n",
      " 7   avoid_large_gatherings     19642 non-null  float64\n",
      " 8   reduced_outside_home_cont  19642 non-null  float64\n",
      " 9   avoid_touch_face           19642 non-null  float64\n",
      " 10  dr_recc_h1n1_vacc          19642 non-null  float64\n",
      " 11  dr_recc_seasonal_vacc      19642 non-null  float64\n",
      " 12  chronic_medic_condition    19642 non-null  float64\n",
      " 13  cont_child_undr_6_mnths    19642 non-null  float64\n",
      " 14  is_health_worker           19642 non-null  float64\n",
      " 15  is_h1n1_vacc_effective     19642 non-null  float64\n",
      " 16  is_h1n1_risky              19642 non-null  float64\n",
      " 17  sick_from_h1n1_vacc        19642 non-null  float64\n",
      " 18  is_seas_vacc_effective     19642 non-null  float64\n",
      " 19  is_seas_risky              19642 non-null  float64\n",
      " 20  age_bracket                19642 non-null  int64  \n",
      " 21  qualification              19642 non-null  int64  \n",
      " 22  sex                        19642 non-null  int64  \n",
      " 23  income_level               19642 non-null  int64  \n",
      " 24  marital_status             19642 non-null  int64  \n",
      " 25  housing_status             19642 non-null  int64  \n",
      " 26  employment                 19642 non-null  int64  \n",
      " 27  h1n1_vaccine               19642 non-null  int64  \n",
      " 28  race_1                     19642 non-null  int64  \n",
      " 29  race_2                     19642 non-null  int64  \n",
      " 30  race_3                     19642 non-null  int64  \n",
      "dtypes: float64(19), int64(12)\n",
      "memory usage: 4.6 MB\n"
     ]
    }
   ],
   "source": [
    "df = pd.read_csv('hnc.csv') #19642; 31 , 1st is unique id \n",
    "df.info()"
   ]
  },
  {
   "cell_type": "code",
   "execution_count": 3,
   "id": "7a642aa2",
   "metadata": {},
   "outputs": [],
   "source": [
    "#_______________VIF\n",
    "from statsmodels.stats.outliers_influence import variance_inflation_factor\n"
   ]
  },
  {
   "cell_type": "code",
   "execution_count": 6,
   "id": "7ce06bf0",
   "metadata": {},
   "outputs": [],
   "source": [
    "#first put your predictors in x\n",
    "x = df.iloc[:, [1,2,15,16,17,18,19,20,21,23,26]] # x is a data frame"
   ]
  },
  {
   "cell_type": "code",
   "execution_count": 7,
   "id": "6e2c50ba",
   "metadata": {},
   "outputs": [],
   "source": [
    "# vif dataframe\n",
    "vif_data = pd.DataFrame()\n",
    "vif_data[\"feature\"] = x.columns"
   ]
  },
  {
   "cell_type": "code",
   "execution_count": 8,
   "id": "0f6699a6",
   "metadata": {},
   "outputs": [],
   "source": [
    "# calculating VIF for each feature\n",
    "vif_data[\"VIF\"] = [variance_inflation_factor(x.values, i)\n",
    "                          for i in range(len(x.columns))]\n",
    "  "
   ]
  },
  {
   "cell_type": "code",
   "execution_count": 9,
   "id": "be162239",
   "metadata": {},
   "outputs": [
    {
     "name": "stdout",
     "output_type": "stream",
     "text": [
      "                   feature        VIF\n",
      "0               h1n1_worry   5.760260\n",
      "1           h1n1_awareness   6.614486\n",
      "2   is_h1n1_vacc_effective  21.012104\n",
      "3            is_h1n1_risky   7.199900\n",
      "4      sick_from_h1n1_vacc   4.643447\n",
      "5   is_seas_vacc_effective  20.713540\n",
      "6            is_seas_risky   8.017016\n",
      "7              age_bracket   5.486319\n",
      "8            qualification  13.197759\n",
      "9             income_level  16.193963\n",
      "10              employment   7.636121\n"
     ]
    }
   ],
   "source": [
    "print(vif_data) # two columns, feature & VIF will appear"
   ]
  },
  {
   "cell_type": "markdown",
   "id": "2aa9b16b",
   "metadata": {},
   "source": [
    "Drop vif>10 and ‘Unnamed: 0’"
   ]
  },
  {
   "cell_type": "code",
   "execution_count": 10,
   "id": "ea1be26b",
   "metadata": {},
   "outputs": [],
   "source": [
    "# drop VIF> 10\n",
    "df = df.drop(['is_h1n1_vacc_effective', 'is_seas_vacc_effective',\n",
    "               'qualification', 'employment'], axis = 1) "
   ]
  },
  {
   "cell_type": "code",
   "execution_count": 11,
   "id": "f8490fa6",
   "metadata": {},
   "outputs": [
    {
     "name": "stdout",
     "output_type": "stream",
     "text": [
      "<class 'pandas.core.frame.DataFrame'>\n",
      "RangeIndex: 19642 entries, 0 to 19641\n",
      "Data columns (total 27 columns):\n",
      " #   Column                     Non-Null Count  Dtype  \n",
      "---  ------                     --------------  -----  \n",
      " 0   Unnamed: 0                 19642 non-null  int64  \n",
      " 1   h1n1_worry                 19642 non-null  float64\n",
      " 2   h1n1_awareness             19642 non-null  float64\n",
      " 3   antiviral_medication       19642 non-null  float64\n",
      " 4   contact_avoidance          19642 non-null  float64\n",
      " 5   bought_face_mask           19642 non-null  float64\n",
      " 6   wash_hands_frequently      19642 non-null  float64\n",
      " 7   avoid_large_gatherings     19642 non-null  float64\n",
      " 8   reduced_outside_home_cont  19642 non-null  float64\n",
      " 9   avoid_touch_face           19642 non-null  float64\n",
      " 10  dr_recc_h1n1_vacc          19642 non-null  float64\n",
      " 11  dr_recc_seasonal_vacc      19642 non-null  float64\n",
      " 12  chronic_medic_condition    19642 non-null  float64\n",
      " 13  cont_child_undr_6_mnths    19642 non-null  float64\n",
      " 14  is_health_worker           19642 non-null  float64\n",
      " 15  is_h1n1_risky              19642 non-null  float64\n",
      " 16  sick_from_h1n1_vacc        19642 non-null  float64\n",
      " 17  is_seas_risky              19642 non-null  float64\n",
      " 18  age_bracket                19642 non-null  int64  \n",
      " 19  sex                        19642 non-null  int64  \n",
      " 20  income_level               19642 non-null  int64  \n",
      " 21  marital_status             19642 non-null  int64  \n",
      " 22  housing_status             19642 non-null  int64  \n",
      " 23  h1n1_vaccine               19642 non-null  int64  \n",
      " 24  race_1                     19642 non-null  int64  \n",
      " 25  race_2                     19642 non-null  int64  \n",
      " 26  race_3                     19642 non-null  int64  \n",
      "dtypes: float64(17), int64(10)\n",
      "memory usage: 4.0 MB\n"
     ]
    }
   ],
   "source": [
    "df.info() # 19642, 27 [with 1st as Unnamed: 0, lets remove this]\n"
   ]
  },
  {
   "cell_type": "code",
   "execution_count": 14,
   "id": "bbb620e7",
   "metadata": {},
   "outputs": [
    {
     "ename": "KeyError",
     "evalue": "\"['Unnamed: 0'] not found in axis\"",
     "output_type": "error",
     "traceback": [
      "\u001b[1;31m---------------------------------------------------------------------------\u001b[0m",
      "\u001b[1;31mKeyError\u001b[0m                                  Traceback (most recent call last)",
      "\u001b[1;32m~\\AppData\\Local\\Temp\\ipykernel_2152\\1971476693.py\u001b[0m in \u001b[0;36m<module>\u001b[1;34m\u001b[0m\n\u001b[1;32m----> 1\u001b[1;33m \u001b[0mdf\u001b[0m \u001b[1;33m=\u001b[0m \u001b[0mdf\u001b[0m\u001b[1;33m.\u001b[0m\u001b[0mdrop\u001b[0m\u001b[1;33m(\u001b[0m\u001b[1;33m[\u001b[0m\u001b[1;34m'Unnamed: 0'\u001b[0m\u001b[1;33m]\u001b[0m\u001b[1;33m,\u001b[0m \u001b[0maxis\u001b[0m \u001b[1;33m=\u001b[0m \u001b[1;36m1\u001b[0m\u001b[1;33m)\u001b[0m\u001b[1;33m\u001b[0m\u001b[1;33m\u001b[0m\u001b[0m\n\u001b[0m",
      "\u001b[1;32mC:\\ProgramData\\Anaconda3\\lib\\site-packages\\pandas\\util\\_decorators.py\u001b[0m in \u001b[0;36mwrapper\u001b[1;34m(*args, **kwargs)\u001b[0m\n\u001b[0;32m    309\u001b[0m                     \u001b[0mstacklevel\u001b[0m\u001b[1;33m=\u001b[0m\u001b[0mstacklevel\u001b[0m\u001b[1;33m,\u001b[0m\u001b[1;33m\u001b[0m\u001b[1;33m\u001b[0m\u001b[0m\n\u001b[0;32m    310\u001b[0m                 )\n\u001b[1;32m--> 311\u001b[1;33m             \u001b[1;32mreturn\u001b[0m \u001b[0mfunc\u001b[0m\u001b[1;33m(\u001b[0m\u001b[1;33m*\u001b[0m\u001b[0margs\u001b[0m\u001b[1;33m,\u001b[0m \u001b[1;33m**\u001b[0m\u001b[0mkwargs\u001b[0m\u001b[1;33m)\u001b[0m\u001b[1;33m\u001b[0m\u001b[1;33m\u001b[0m\u001b[0m\n\u001b[0m\u001b[0;32m    312\u001b[0m \u001b[1;33m\u001b[0m\u001b[0m\n\u001b[0;32m    313\u001b[0m         \u001b[1;32mreturn\u001b[0m \u001b[0mwrapper\u001b[0m\u001b[1;33m\u001b[0m\u001b[1;33m\u001b[0m\u001b[0m\n",
      "\u001b[1;32mC:\\ProgramData\\Anaconda3\\lib\\site-packages\\pandas\\core\\frame.py\u001b[0m in \u001b[0;36mdrop\u001b[1;34m(self, labels, axis, index, columns, level, inplace, errors)\u001b[0m\n\u001b[0;32m   4955\u001b[0m                 \u001b[0mweight\u001b[0m  \u001b[1;36m1.0\u001b[0m     \u001b[1;36m0.8\u001b[0m\u001b[1;33m\u001b[0m\u001b[1;33m\u001b[0m\u001b[0m\n\u001b[0;32m   4956\u001b[0m         \"\"\"\n\u001b[1;32m-> 4957\u001b[1;33m         return super().drop(\n\u001b[0m\u001b[0;32m   4958\u001b[0m             \u001b[0mlabels\u001b[0m\u001b[1;33m=\u001b[0m\u001b[0mlabels\u001b[0m\u001b[1;33m,\u001b[0m\u001b[1;33m\u001b[0m\u001b[1;33m\u001b[0m\u001b[0m\n\u001b[0;32m   4959\u001b[0m             \u001b[0maxis\u001b[0m\u001b[1;33m=\u001b[0m\u001b[0maxis\u001b[0m\u001b[1;33m,\u001b[0m\u001b[1;33m\u001b[0m\u001b[1;33m\u001b[0m\u001b[0m\n",
      "\u001b[1;32mC:\\ProgramData\\Anaconda3\\lib\\site-packages\\pandas\\core\\generic.py\u001b[0m in \u001b[0;36mdrop\u001b[1;34m(self, labels, axis, index, columns, level, inplace, errors)\u001b[0m\n\u001b[0;32m   4265\u001b[0m         \u001b[1;32mfor\u001b[0m \u001b[0maxis\u001b[0m\u001b[1;33m,\u001b[0m \u001b[0mlabels\u001b[0m \u001b[1;32min\u001b[0m \u001b[0maxes\u001b[0m\u001b[1;33m.\u001b[0m\u001b[0mitems\u001b[0m\u001b[1;33m(\u001b[0m\u001b[1;33m)\u001b[0m\u001b[1;33m:\u001b[0m\u001b[1;33m\u001b[0m\u001b[1;33m\u001b[0m\u001b[0m\n\u001b[0;32m   4266\u001b[0m             \u001b[1;32mif\u001b[0m \u001b[0mlabels\u001b[0m \u001b[1;32mis\u001b[0m \u001b[1;32mnot\u001b[0m \u001b[1;32mNone\u001b[0m\u001b[1;33m:\u001b[0m\u001b[1;33m\u001b[0m\u001b[1;33m\u001b[0m\u001b[0m\n\u001b[1;32m-> 4267\u001b[1;33m                 \u001b[0mobj\u001b[0m \u001b[1;33m=\u001b[0m \u001b[0mobj\u001b[0m\u001b[1;33m.\u001b[0m\u001b[0m_drop_axis\u001b[0m\u001b[1;33m(\u001b[0m\u001b[0mlabels\u001b[0m\u001b[1;33m,\u001b[0m \u001b[0maxis\u001b[0m\u001b[1;33m,\u001b[0m \u001b[0mlevel\u001b[0m\u001b[1;33m=\u001b[0m\u001b[0mlevel\u001b[0m\u001b[1;33m,\u001b[0m \u001b[0merrors\u001b[0m\u001b[1;33m=\u001b[0m\u001b[0merrors\u001b[0m\u001b[1;33m)\u001b[0m\u001b[1;33m\u001b[0m\u001b[1;33m\u001b[0m\u001b[0m\n\u001b[0m\u001b[0;32m   4268\u001b[0m \u001b[1;33m\u001b[0m\u001b[0m\n\u001b[0;32m   4269\u001b[0m         \u001b[1;32mif\u001b[0m \u001b[0minplace\u001b[0m\u001b[1;33m:\u001b[0m\u001b[1;33m\u001b[0m\u001b[1;33m\u001b[0m\u001b[0m\n",
      "\u001b[1;32mC:\\ProgramData\\Anaconda3\\lib\\site-packages\\pandas\\core\\generic.py\u001b[0m in \u001b[0;36m_drop_axis\u001b[1;34m(self, labels, axis, level, errors, consolidate, only_slice)\u001b[0m\n\u001b[0;32m   4309\u001b[0m                 \u001b[0mnew_axis\u001b[0m \u001b[1;33m=\u001b[0m \u001b[0maxis\u001b[0m\u001b[1;33m.\u001b[0m\u001b[0mdrop\u001b[0m\u001b[1;33m(\u001b[0m\u001b[0mlabels\u001b[0m\u001b[1;33m,\u001b[0m \u001b[0mlevel\u001b[0m\u001b[1;33m=\u001b[0m\u001b[0mlevel\u001b[0m\u001b[1;33m,\u001b[0m \u001b[0merrors\u001b[0m\u001b[1;33m=\u001b[0m\u001b[0merrors\u001b[0m\u001b[1;33m)\u001b[0m\u001b[1;33m\u001b[0m\u001b[1;33m\u001b[0m\u001b[0m\n\u001b[0;32m   4310\u001b[0m             \u001b[1;32melse\u001b[0m\u001b[1;33m:\u001b[0m\u001b[1;33m\u001b[0m\u001b[1;33m\u001b[0m\u001b[0m\n\u001b[1;32m-> 4311\u001b[1;33m                 \u001b[0mnew_axis\u001b[0m \u001b[1;33m=\u001b[0m \u001b[0maxis\u001b[0m\u001b[1;33m.\u001b[0m\u001b[0mdrop\u001b[0m\u001b[1;33m(\u001b[0m\u001b[0mlabels\u001b[0m\u001b[1;33m,\u001b[0m \u001b[0merrors\u001b[0m\u001b[1;33m=\u001b[0m\u001b[0merrors\u001b[0m\u001b[1;33m)\u001b[0m\u001b[1;33m\u001b[0m\u001b[1;33m\u001b[0m\u001b[0m\n\u001b[0m\u001b[0;32m   4312\u001b[0m             \u001b[0mindexer\u001b[0m \u001b[1;33m=\u001b[0m \u001b[0maxis\u001b[0m\u001b[1;33m.\u001b[0m\u001b[0mget_indexer\u001b[0m\u001b[1;33m(\u001b[0m\u001b[0mnew_axis\u001b[0m\u001b[1;33m)\u001b[0m\u001b[1;33m\u001b[0m\u001b[1;33m\u001b[0m\u001b[0m\n\u001b[0;32m   4313\u001b[0m \u001b[1;33m\u001b[0m\u001b[0m\n",
      "\u001b[1;32mC:\\ProgramData\\Anaconda3\\lib\\site-packages\\pandas\\core\\indexes\\base.py\u001b[0m in \u001b[0;36mdrop\u001b[1;34m(self, labels, errors)\u001b[0m\n\u001b[0;32m   6659\u001b[0m         \u001b[1;32mif\u001b[0m \u001b[0mmask\u001b[0m\u001b[1;33m.\u001b[0m\u001b[0many\u001b[0m\u001b[1;33m(\u001b[0m\u001b[1;33m)\u001b[0m\u001b[1;33m:\u001b[0m\u001b[1;33m\u001b[0m\u001b[1;33m\u001b[0m\u001b[0m\n\u001b[0;32m   6660\u001b[0m             \u001b[1;32mif\u001b[0m \u001b[0merrors\u001b[0m \u001b[1;33m!=\u001b[0m \u001b[1;34m\"ignore\"\u001b[0m\u001b[1;33m:\u001b[0m\u001b[1;33m\u001b[0m\u001b[1;33m\u001b[0m\u001b[0m\n\u001b[1;32m-> 6661\u001b[1;33m                 \u001b[1;32mraise\u001b[0m \u001b[0mKeyError\u001b[0m\u001b[1;33m(\u001b[0m\u001b[1;34mf\"{list(labels[mask])} not found in axis\"\u001b[0m\u001b[1;33m)\u001b[0m\u001b[1;33m\u001b[0m\u001b[1;33m\u001b[0m\u001b[0m\n\u001b[0m\u001b[0;32m   6662\u001b[0m             \u001b[0mindexer\u001b[0m \u001b[1;33m=\u001b[0m \u001b[0mindexer\u001b[0m\u001b[1;33m[\u001b[0m\u001b[1;33m~\u001b[0m\u001b[0mmask\u001b[0m\u001b[1;33m]\u001b[0m\u001b[1;33m\u001b[0m\u001b[1;33m\u001b[0m\u001b[0m\n\u001b[0;32m   6663\u001b[0m         \u001b[1;32mreturn\u001b[0m \u001b[0mself\u001b[0m\u001b[1;33m.\u001b[0m\u001b[0mdelete\u001b[0m\u001b[1;33m(\u001b[0m\u001b[0mindexer\u001b[0m\u001b[1;33m)\u001b[0m\u001b[1;33m\u001b[0m\u001b[1;33m\u001b[0m\u001b[0m\n",
      "\u001b[1;31mKeyError\u001b[0m: \"['Unnamed: 0'] not found in axis\""
     ]
    }
   ],
   "source": [
    "df = df.drop(['Unnamed: 0'], axis = 1)"
   ]
  },
  {
   "cell_type": "code",
   "execution_count": 15,
   "id": "89b2aa32",
   "metadata": {},
   "outputs": [
    {
     "name": "stdout",
     "output_type": "stream",
     "text": [
      "<class 'pandas.core.frame.DataFrame'>\n",
      "RangeIndex: 19642 entries, 0 to 19641\n",
      "Data columns (total 26 columns):\n",
      " #   Column                     Non-Null Count  Dtype  \n",
      "---  ------                     --------------  -----  \n",
      " 0   h1n1_worry                 19642 non-null  float64\n",
      " 1   h1n1_awareness             19642 non-null  float64\n",
      " 2   antiviral_medication       19642 non-null  float64\n",
      " 3   contact_avoidance          19642 non-null  float64\n",
      " 4   bought_face_mask           19642 non-null  float64\n",
      " 5   wash_hands_frequently      19642 non-null  float64\n",
      " 6   avoid_large_gatherings     19642 non-null  float64\n",
      " 7   reduced_outside_home_cont  19642 non-null  float64\n",
      " 8   avoid_touch_face           19642 non-null  float64\n",
      " 9   dr_recc_h1n1_vacc          19642 non-null  float64\n",
      " 10  dr_recc_seasonal_vacc      19642 non-null  float64\n",
      " 11  chronic_medic_condition    19642 non-null  float64\n",
      " 12  cont_child_undr_6_mnths    19642 non-null  float64\n",
      " 13  is_health_worker           19642 non-null  float64\n",
      " 14  is_h1n1_risky              19642 non-null  float64\n",
      " 15  sick_from_h1n1_vacc        19642 non-null  float64\n",
      " 16  is_seas_risky              19642 non-null  float64\n",
      " 17  age_bracket                19642 non-null  int64  \n",
      " 18  sex                        19642 non-null  int64  \n",
      " 19  income_level               19642 non-null  int64  \n",
      " 20  marital_status             19642 non-null  int64  \n",
      " 21  housing_status             19642 non-null  int64  \n",
      " 22  h1n1_vaccine               19642 non-null  int64  \n",
      " 23  race_1                     19642 non-null  int64  \n",
      " 24  race_2                     19642 non-null  int64  \n",
      " 25  race_3                     19642 non-null  int64  \n",
      "dtypes: float64(17), int64(9)\n",
      "memory usage: 3.9 MB\n"
     ]
    }
   ],
   "source": [
    "df.info() # 19642, 26"
   ]
  },
  {
   "cell_type": "code",
   "execution_count": 16,
   "id": "0f0988f5",
   "metadata": {},
   "outputs": [],
   "source": [
    "df.to_csv('hnvif.csv')"
   ]
  },
  {
   "cell_type": "code",
   "execution_count": 17,
   "id": "18e1621a",
   "metadata": {},
   "outputs": [],
   "source": [
    "# X and y\n",
    "X = df.loc[:, df.columns != 'h1n1_vaccine']\n",
    "y = df.loc[:, df.columns == 'h1n1_vaccine']"
   ]
  },
  {
   "cell_type": "markdown",
   "id": "75722eba",
   "metadata": {},
   "source": [
    "###  solver = liblinear\n",
    "'''\n",
    "liblinear [library for linear classification]: good for small data\n",
    "newton-cg [newton conjugate]: can be used in this case\n",
    "lbfgs[limited memory BFGS]: for multiclass problems\n",
    "BFGS:Broyden–Fletcher–Goldfarb–Shanno algorithm \n",
    "sag [Stochastic Average Gradient Descent]: good for large data sets\n",
    "saga: a little variant of sag"
   ]
  },
  {
   "cell_type": "markdown",
   "id": "62a59341",
   "metadata": {},
   "source": [
    "### Model"
   ]
  },
  {
   "cell_type": "code",
   "execution_count": 18,
   "id": "c870804d",
   "metadata": {},
   "outputs": [
    {
     "name": "stderr",
     "output_type": "stream",
     "text": [
      "C:\\ProgramData\\Anaconda3\\lib\\site-packages\\sklearn\\utils\\validation.py:993: DataConversionWarning: A column-vector y was passed when a 1d array was expected. Please change the shape of y to (n_samples, ), for example using ravel().\n",
      "  y = column_or_1d(y, warn=True)\n"
     ]
    },
    {
     "data": {
      "text/plain": [
       "array([[-0.04496998,  0.23590128,  0.07987153, -0.02180858,  0.1113739 ,\n",
       "         0.06406089, -0.18878698, -0.09165618,  0.02807511,  2.01296273,\n",
       "        -0.55604782,  0.12997669,  0.23423516,  0.86015086,  0.45517096,\n",
       "        -0.06153089,  0.21776949,  0.15981204,  0.20158744,  0.09882776,\n",
       "        -0.12280441, -0.0128468 ,  0.13666195,  0.37645012,  0.35226739]])"
      ]
     },
     "execution_count": 18,
     "metadata": {},
     "output_type": "execute_result"
    }
   ],
   "source": [
    "from sklearn.linear_model import LogisticRegression\n",
    "model1 = LogisticRegression(solver='liblinear', random_state=0)\n",
    "model1.fit(X, y)\n",
    "model1.intercept_\n",
    "model1.coef_"
   ]
  },
  {
   "cell_type": "code",
   "execution_count": 20,
   "id": "d7b037aa",
   "metadata": {},
   "outputs": [
    {
     "data": {
      "text/plain": [
       "array([-4.77885013])"
      ]
     },
     "execution_count": 20,
     "metadata": {},
     "output_type": "execute_result"
    }
   ],
   "source": [
    "model1.intercept_"
   ]
  },
  {
   "cell_type": "code",
   "execution_count": 21,
   "id": "56acc17b",
   "metadata": {},
   "outputs": [
    {
     "data": {
      "text/plain": [
       "array([[-0.04496998,  0.23590128,  0.07987153, -0.02180858,  0.1113739 ,\n",
       "         0.06406089, -0.18878698, -0.09165618,  0.02807511,  2.01296273,\n",
       "        -0.55604782,  0.12997669,  0.23423516,  0.86015086,  0.45517096,\n",
       "        -0.06153089,  0.21776949,  0.15981204,  0.20158744,  0.09882776,\n",
       "        -0.12280441, -0.0128468 ,  0.13666195,  0.37645012,  0.35226739]])"
      ]
     },
     "execution_count": 21,
     "metadata": {},
     "output_type": "execute_result"
    }
   ],
   "source": [
    "model1.coef_"
   ]
  },
  {
   "cell_type": "code",
   "execution_count": 22,
   "id": "d4dd6769",
   "metadata": {},
   "outputs": [],
   "source": [
    "#Predictions\n",
    "y_pred = model1.predict(X)"
   ]
  },
  {
   "cell_type": "code",
   "execution_count": 23,
   "id": "8ec6d4ed",
   "metadata": {},
   "outputs": [
    {
     "name": "stdout",
     "output_type": "stream",
     "text": [
      "[[14200   928]\n",
      " [ 2608  1906]]\n"
     ]
    }
   ],
   "source": [
    "\n",
    "#Confusion matrix\n",
    "from sklearn import metrics\n",
    "cm = metrics.confusion_matrix(y, y_pred)\n",
    "print(cm)"
   ]
  },
  {
   "cell_type": "code",
   "execution_count": 24,
   "id": "6296b340",
   "metadata": {},
   "outputs": [
    {
     "data": {
      "text/plain": [
       "0.8199775990225028"
      ]
     },
     "execution_count": 24,
     "metadata": {},
     "output_type": "execute_result"
    }
   ],
   "source": [
    "#Accuracy Score - correct predictions / total number of data points\n",
    "model1.score(X,y) #.0.82\n",
    "(14200+1906)/(14200+928+2608+1906) # 0.82\n"
   ]
  },
  {
   "cell_type": "markdown",
   "id": "1b3da2f6",
   "metadata": {},
   "source": [
    "### Calssification report"
   ]
  },
  {
   "cell_type": "code",
   "execution_count": 25,
   "id": "fda188e1",
   "metadata": {},
   "outputs": [
    {
     "name": "stdout",
     "output_type": "stream",
     "text": [
      "              precision    recall  f1-score   support\n",
      "\n",
      "           0       0.84      0.94      0.89     15128\n",
      "           1       0.67      0.42      0.52      4514\n",
      "\n",
      "    accuracy                           0.82     19642\n",
      "   macro avg       0.76      0.68      0.70     19642\n",
      "weighted avg       0.81      0.82      0.80     19642\n",
      "\n"
     ]
    }
   ],
   "source": [
    "#Classification report\n",
    "from sklearn.metrics import classification_report\n",
    "print(classification_report(y, y_pred))"
   ]
  },
  {
   "cell_type": "code",
   "execution_count": 26,
   "id": "5fc21bf2",
   "metadata": {},
   "outputs": [
    {
     "name": "stdout",
     "output_type": "stream",
     "text": [
      "0.8216597704608753\n"
     ]
    }
   ],
   "source": [
    "#ROC Curve - Receiver Operating Characteristic curve\n",
    "#tpr = True Positive Rate \n",
    "#fpr = False Positive Rate\n",
    "from sklearn.metrics import roc_curve, auc, roc_auc_score\n",
    "y_pred_prob = model1.predict_proba(X)\n",
    "fpr, tpr, thresholds =roc_curve(df[\"h1n1_vaccine\"], y_pred_prob[:,1])\n",
    "roc_auc = auc(fpr, tpr) #Area under Curve 0.82\n",
    "print(roc_auc)"
   ]
  },
  {
   "cell_type": "code",
   "execution_count": 27,
   "id": "8e4e9dc6",
   "metadata": {},
   "outputs": [
    {
     "data": {
      "image/png": "[encoded data removed]",
      "text/plain": [
       "<Figure size 640x480 with 1 Axes>"
      ]
     },
     "metadata": {},
     "output_type": "display_data"
    }
   ],
   "source": [
    "#ROC Curve\n",
    "plt.title('ROC Curve for LogReg: liblinear')\n",
    "plt.xlabel('False Positive Rate (1-Specificity)')\n",
    "plt.ylabel('True Positive Rate (Sensitivity)')\n",
    "plt.plot([0, 1], [0, 1],'r--')\n",
    "plt.xlim([0, 1])\n",
    "plt.ylim([0, 1])\n",
    "plt.plot(fpr, tpr, label = 'AUC =' +str(roc_auc))\n",
    "plt.legend(loc=4) #Location of label\n",
    "plt.show()"
   ]
  },
  {
   "cell_type": "markdown",
   "id": "56d7ee67",
   "metadata": {},
   "source": [
    "### SMOTE"
   ]
  },
  {
   "cell_type": "code",
   "execution_count": 28,
   "id": "51902681",
   "metadata": {},
   "outputs": [],
   "source": [
    "#____________________SMOTE \n",
    "\n",
    "novac = df[df.h1n1_vaccine == 0] #15128,26\n",
    "vac = df[df.h1n1_vaccine == 1] #4514, 26"
   ]
  },
  {
   "cell_type": "code",
   "execution_count": 29,
   "id": "4737b8f7",
   "metadata": {},
   "outputs": [],
   "source": [
    "#__________________________________ oversample minority_with replacement\n",
    "from sklearn.utils import resample\n",
    "vac_oversample = resample(vac,\n",
    "                          replace=True, # sample with replacement\n",
    "                          n_samples=len(novac), # match number in majority class\n",
    "                          random_state=27) # reproducible results\n"
   ]
  },
  {
   "cell_type": "code",
   "execution_count": 30,
   "id": "387be2f3",
   "metadata": {},
   "outputs": [
    {
     "data": {
      "text/plain": [
       "0    15128\n",
       "1    15128\n",
       "Name: h1n1_vaccine, dtype: int64"
      ]
     },
     "execution_count": 30,
     "metadata": {},
     "output_type": "execute_result"
    }
   ],
   "source": [
    "# combine majority and oversampled minority\n",
    "\n",
    "dfsmote = pd.concat([novac, vac_oversample]) \n",
    "dfsmote.h1n1_vaccine.value_counts()"
   ]
  },
  {
   "cell_type": "code",
   "execution_count": 31,
   "id": "ad585cf3",
   "metadata": {},
   "outputs": [],
   "source": [
    "\n",
    "dfsmote.to_csv('hnsmote.csv')"
   ]
  },
  {
   "cell_type": "code",
   "execution_count": 32,
   "id": "30b5b850",
   "metadata": {},
   "outputs": [
    {
     "data": {
      "text/plain": [
       "h1n1_vaccine\n",
       "0               15128\n",
       "1               15128\n",
       "dtype: int64"
      ]
     },
     "execution_count": 32,
     "metadata": {},
     "output_type": "execute_result"
    }
   ],
   "source": [
    "#___________________lets re do log reg\n",
    "# X and y\n",
    "X2 = dfsmote.loc[:, dfsmote.columns != 'h1n1_vaccine']\n",
    "y2 = dfsmote.loc[:, dfsmote.columns == 'h1n1_vaccine']\n",
    "y2.value_counts() # both 15,128"
   ]
  },
  {
   "cell_type": "markdown",
   "id": "00559d56",
   "metadata": {},
   "source": [
    "# solver = liblinear\n",
    "'''\n",
    "liblinear [library for linear classification]: good for small data\n",
    "newton-cg [newton conjugate]: can be used in this case\n",
    "lbfgs[limited memory BFGS]: for multiclass problems\n",
    "BFGS:Broyden–Fletcher–Goldfarb–Shanno algorithm \n",
    "sag [Stochastic Average Gradient Descent]: good for large data sets\n",
    "saga: a little variant of sag"
   ]
  },
  {
   "cell_type": "code",
   "execution_count": 33,
   "id": "63a30e8b",
   "metadata": {},
   "outputs": [
    {
     "name": "stderr",
     "output_type": "stream",
     "text": [
      "C:\\ProgramData\\Anaconda3\\lib\\site-packages\\sklearn\\utils\\validation.py:993: DataConversionWarning: A column-vector y was passed when a 1d array was expected. Please change the shape of y to (n_samples, ), for example using ravel().\n",
      "  y = column_or_1d(y, warn=True)\n"
     ]
    },
    {
     "data": {
      "text/plain": [
       "array([[-0.01118147,  0.2210547 ,  0.1371775 , -0.00679728,  0.14257456,\n",
       "         0.09421023, -0.2000553 , -0.11595893, -0.01936165,  2.10424967,\n",
       "        -0.63670885,  0.14104786,  0.19295641,  0.93630368,  0.43867647,\n",
       "        -0.05666603,  0.22833308,  0.1551444 ,  0.23000128,  0.10607717,\n",
       "        -0.11945159,  0.07376133,  0.04801412,  0.2681097 ,  0.24540742]])"
      ]
     },
     "execution_count": 33,
     "metadata": {},
     "output_type": "execute_result"
    }
   ],
   "source": [
    "from sklearn.linear_model import LogisticRegression\n",
    "model2 = LogisticRegression(solver='liblinear', random_state=0)\n",
    "model2.fit(X2, y2)\n",
    "model2.intercept_\n",
    "model2.coef_\n"
   ]
  },
  {
   "cell_type": "markdown",
   "id": "8fe97772",
   "metadata": {},
   "source": [
    "cO-effecients"
   ]
  },
  {
   "cell_type": "code",
   "execution_count": 36,
   "id": "198625ec",
   "metadata": {},
   "outputs": [
    {
     "data": {
      "text/plain": [
       "array([-3.55103733])"
      ]
     },
     "execution_count": 36,
     "metadata": {},
     "output_type": "execute_result"
    }
   ],
   "source": [
    "model2.intercept_\n"
   ]
  },
  {
   "cell_type": "code",
   "execution_count": 37,
   "id": "6f995b5a",
   "metadata": {},
   "outputs": [
    {
     "data": {
      "text/plain": [
       "array([[-0.01118147,  0.2210547 ,  0.1371775 , -0.00679728,  0.14257456,\n",
       "         0.09421023, -0.2000553 , -0.11595893, -0.01936165,  2.10424967,\n",
       "        -0.63670885,  0.14104786,  0.19295641,  0.93630368,  0.43867647,\n",
       "        -0.05666603,  0.22833308,  0.1551444 ,  0.23000128,  0.10607717,\n",
       "        -0.11945159,  0.07376133,  0.04801412,  0.2681097 ,  0.24540742]])"
      ]
     },
     "execution_count": 37,
     "metadata": {},
     "output_type": "execute_result"
    }
   ],
   "source": [
    "model2.coef_\n"
   ]
  },
  {
   "cell_type": "code",
   "execution_count": 34,
   "id": "1d4e6c06",
   "metadata": {},
   "outputs": [],
   "source": [
    "#Predictions\n",
    "y_pred2 = model2.predict(X2)"
   ]
  },
  {
   "cell_type": "markdown",
   "id": "409017c8",
   "metadata": {},
   "source": [
    "### With and without SMOTE"
   ]
  },
  {
   "cell_type": "code",
   "execution_count": 35,
   "id": "80bb6778",
   "metadata": {},
   "outputs": [
    {
     "name": "stdout",
     "output_type": "stream",
     "text": [
      "[[11848  3280]\n",
      " [ 4154 10974]]\n"
     ]
    }
   ],
   "source": [
    "#Confusion matrix\n",
    "from sklearn import metrics\n",
    "cm2 = metrics.confusion_matrix(y2, y_pred2)\n",
    "print(cm2)"
   ]
  },
  {
   "cell_type": "markdown",
   "id": "d34a46e8",
   "metadata": {},
   "source": [
    "\n",
    "WITHOUT SMOTE = \n",
    "[[14200   928]\n",
    " [ 2608  1906]]"
   ]
  },
  {
   "cell_type": "code",
   "execution_count": 38,
   "id": "ff523c3b",
   "metadata": {},
   "outputs": [
    {
     "data": {
      "text/plain": [
       "0.756296394485684"
      ]
     },
     "execution_count": 38,
     "metadata": {},
     "output_type": "execute_result"
    }
   ],
   "source": [
    "#Accuracy Score - correct predictions / total number of data points\n",
    "model2.score(X2,y2) #WITH SMOTE = 0.75; without = #.0.82\n",
    "(11848+10974)/(11848+3200+4154+10974) # 0.75"
   ]
  },
  {
   "cell_type": "code",
   "execution_count": 39,
   "id": "1050b8a0",
   "metadata": {},
   "outputs": [
    {
     "name": "stdout",
     "output_type": "stream",
     "text": [
      "              precision    recall  f1-score   support\n",
      "\n",
      "           0       0.74      0.78      0.76     15128\n",
      "           1       0.77      0.73      0.75     15128\n",
      "\n",
      "    accuracy                           0.75     30256\n",
      "   macro avg       0.76      0.75      0.75     30256\n",
      "weighted avg       0.76      0.75      0.75     30256\n",
      "\n"
     ]
    }
   ],
   "source": [
    "#Classification report\n",
    "from sklearn.metrics import classification_report\n",
    "print(classification_report(y2, y_pred2))"
   ]
  },
  {
   "cell_type": "markdown",
   "id": "9c0c0093",
   "metadata": {},
   "source": [
    "## AUC"
   ]
  },
  {
   "cell_type": "code",
   "execution_count": 40,
   "id": "1a7d59ba",
   "metadata": {},
   "outputs": [
    {
     "name": "stdout",
     "output_type": "stream",
     "text": [
      "0.8202646708776102\n"
     ]
    }
   ],
   "source": [
    "#ROC Curve - Receiver Operating Characteristic curve\n",
    "#tpr = True Positive Rate \n",
    "#fpr = False Positive Rate\n",
    "from sklearn.metrics import roc_curve, auc, roc_auc_score\n",
    "y_pred_prob2 = model2.predict_proba(X2)\n",
    "fpr2, tpr2, thresholds2 =roc_curve(dfsmote[\"h1n1_vaccine\"], y_pred_prob2[:,1])\n",
    "roc_auc2 = auc(fpr2, tpr2) #Area under Curve 0.82\n",
    "print(roc_auc2) # 0.82, same as without smote\n"
   ]
  },
  {
   "cell_type": "markdown",
   "id": "a7e88ae6",
   "metadata": {},
   "source": [
    "## ROC"
   ]
  },
  {
   "cell_type": "code",
   "execution_count": 41,
   "id": "40911bcc",
   "metadata": {},
   "outputs": [
    {
     "data": {
      "image/png": "[encoded data removed]",
      "text/plain": [
       "<Figure size 640x480 with 1 Axes>"
      ]
     },
     "metadata": {},
     "output_type": "display_data"
    }
   ],
   "source": [
    "#ROC Curve\n",
    "plt.title('ROC Curve for LogReg: liblinear SMOTE')\n",
    "plt.xlabel('False Positive Rate (1-Specificity)')\n",
    "plt.ylabel('True Positive Rate (Sensitivity)')\n",
    "plt.plot([0, 1], [0, 1],'r--')\n",
    "plt.xlim([0, 1])\n",
    "plt.ylim([0, 1])\n",
    "plt.plot(fpr2, tpr2, label = 'AUC =' +str(roc_auc2))\n",
    "plt.legend(loc=4) #Location of label\n",
    "plt.show()"
   ]
  }
 ],
 "metadata": {
  "kernelspec": {
   "display_name": "Python 3 (ipykernel)",
   "language": "python",
   "name": "python3"
  },
  "language_info": {
   "codemirror_mode": {
    "name": "ipython",
    "version": 3
   },
   "file_extension": ".py",
   "mimetype": "text/x-python",
   "name": "python",
   "nbconvert_exporter": "python",
   "pygments_lexer": "ipython3",
   "version": "3.9.13"
  }
 },
 "nbformat": 4,
 "nbformat_minor": 5
}
